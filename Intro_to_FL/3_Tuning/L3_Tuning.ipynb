{
 "cells": [
  {
   "cell_type": "markdown",
   "id": "f3d078a4",
   "metadata": {},
   "source": [
    "# Lesson 3: Tuning"
   ]
  },
  {
   "cell_type": "markdown",
   "id": "ce5574dc",
   "metadata": {},
   "source": [
    "Welcome to Lesson 3!\n",
    "\n",
    "To access the `requirements.txt` and `utils3.py` file for this course, go to `File` and click `Open`."
   ]
  },
  {
   "cell_type": "markdown",
   "id": "299f72bd",
   "metadata": {},
   "source": [
    "#### 1. Load imports"
   ]
  },
  {
   "cell_type": "code",
   "execution_count": 1,
   "id": "f8fe96c1-bb30-4a44-860a-98ec4326e74f",
   "metadata": {
    "height": 147
   },
   "outputs": [],
   "source": [
    "from flwr.client import Client, ClientApp, NumPyClient\n",
    "from flwr.server import ServerApp, ServerConfig\n",
    "from flwr.server.strategy import FedAvg\n",
    "from flwr.simulation import run_simulation\n",
    "from flwr_datasets import FederatedDataset\n",
    "\n",
    "from utils3 import *"
   ]
  },
  {
   "cell_type": "markdown",
   "id": "827e9149",
   "metadata": {},
   "source": [
    "#### 2. Prepare the datasets"
   ]
  },
  {
   "cell_type": "markdown",
   "id": "c127d303",
   "metadata": {},
   "source": [
    "* Prepare data using Flower Datasets.\n",
    "\n",
    "Use `flwr-datasets` that provides with a Federated Dataset abstraction."
   ]
  },
  {
   "cell_type": "code",
   "execution_count": 2,
   "id": "07bf7905-111d-4cdc-9f65-9883b8ccf393",
   "metadata": {
    "height": 215
   },
   "outputs": [],
   "source": [
    "def load_data(partition_id):\n",
    "    fds = FederatedDataset(dataset=\"mnist\", partitioners={\"train\": 5})\n",
    "    partition = fds.load_partition(partition_id)\n",
    "\n",
    "    traintest = partition.train_test_split(test_size=0.2, seed=42)\n",
    "    traintest = traintest.with_transform(normalize)\n",
    "    trainset, testset = traintest[\"train\"], traintest[\"test\"]\n",
    "\n",
    "    trainloader = DataLoader(trainset, batch_size=64, shuffle=True)\n",
    "    testloader = DataLoader(testset, batch_size=64)\n",
    "    return trainloader, testloader"
   ]
  },
  {
   "cell_type": "markdown",
   "id": "7905e136",
   "metadata": {},
   "source": [
    "#### 3. Clients configuration"
   ]
  },
  {
   "cell_type": "markdown",
   "id": "68400707",
   "metadata": {},
   "source": [
    "* Define fit_config.\n",
    "\n",
    "Flower can send configuration values to clients."
   ]
  },
  {
   "cell_type": "code",
   "execution_count": 3,
   "id": "16125466-5b8b-4c57-956c-542cd0b8f4a2",
   "metadata": {
    "height": 113
   },
   "outputs": [],
   "source": [
    "def fit_config(server_round: int):\n",
    "    config_dict = {\n",
    "        \"local_epochs\": 2 if server_round < 3 else 5,\n",
    "    }\n",
    "    return config_dict"
   ]
  },
  {
   "cell_type": "markdown",
   "id": "5eadf6e5",
   "metadata": {},
   "source": [
    "* The FedAvg strategy in the Server Function."
   ]
  },
  {
   "cell_type": "code",
   "execution_count": 4,
   "id": "a09f1649-c5d8-44d1-9777-0270f2864723",
   "metadata": {
    "height": 283
   },
   "outputs": [],
   "source": [
    "net = SimpleModel()\n",
    "params = ndarrays_to_parameters(get_weights(net))\n",
    "\n",
    "def server_fn(context: Context):\n",
    "    strategy = FedAvg(\n",
    "        min_fit_clients=5,\n",
    "        fraction_evaluate=0.0,\n",
    "        initial_parameters=params,\n",
    "        on_fit_config_fn=fit_config,  # <- NEW\n",
    "    )\n",
    "    config=ServerConfig(num_rounds=3)\n",
    "    return ServerAppComponents(\n",
    "        strategy=strategy,\n",
    "        config=config,\n",
    "    )"
   ]
  },
  {
   "cell_type": "markdown",
   "id": "a6da428f",
   "metadata": {},
   "source": [
    "* Define an instance of ServerApp."
   ]
  },
  {
   "cell_type": "code",
   "execution_count": 5,
   "id": "30e24c28-4420-4432-9cbd-ab0773215c36",
   "metadata": {
    "height": 29
   },
   "outputs": [],
   "source": [
    "server = ServerApp(server_fn=server_fn)"
   ]
  },
  {
   "cell_type": "markdown",
   "id": "a75c3feb",
   "metadata": {},
   "source": [
    "* Define FlowerClient.\n",
    "\n",
    "The client side receives the configuration dictionary in the `fit` method."
   ]
  },
  {
   "cell_type": "code",
   "execution_count": 6,
   "id": "0918d659-8c35-4cf8-a2fb-aaa0e8475fde",
   "metadata": {
    "height": 351
   },
   "outputs": [],
   "source": [
    "class FlowerClient(NumPyClient):\n",
    "    def __init__(self, net, trainloader, testloader):\n",
    "        self.net = net\n",
    "        self.trainloader = trainloader\n",
    "        self.testloader = testloader\n",
    "\n",
    "    def fit(self, parameters, config):\n",
    "        set_weights(self.net, parameters)\n",
    "\n",
    "        epochs = config[\"local_epochs\"]\n",
    "        log(INFO, f\"client trains for {epochs} epochs\")\n",
    "        train_model(self.net, self.trainloader, epochs)\n",
    "\n",
    "        return get_weights(self.net), len(self.trainloader), {}\n",
    "\n",
    "    def evaluate(self, parameters, config):\n",
    "        set_weights(self.net, parameters)\n",
    "        loss, accuracy = evaluate_model(self.net, self.testloader)\n",
    "        return loss, len(self.testloader), {\"accuracy\": accuracy}"
   ]
  },
  {
   "cell_type": "markdown",
   "id": "0edac892",
   "metadata": {},
   "source": [
    "* Create the Client Function and the Client App."
   ]
  },
  {
   "cell_type": "code",
   "execution_count": 7,
   "id": "79093643-032d-41b3-a544-dab4362acaac",
   "metadata": {
    "height": 164
   },
   "outputs": [],
   "source": [
    "def client_fn(context: Context) -> Client:\n",
    "    net = SimpleModel()\n",
    "    partition_id = int(context.node_config[\"partition-id\"])\n",
    "    trainloader, testloader = load_data(partition_id=partition_id)\n",
    "    return FlowerClient(net, trainloader, testloader).to_client()\n",
    "\n",
    "\n",
    "client = ClientApp(client_fn)"
   ]
  },
  {
   "cell_type": "markdown",
   "id": "6fb8b07a",
   "metadata": {},
   "source": [
    "* Run Client and Server apps."
   ]
  },
  {
   "cell_type": "code",
   "execution_count": 8,
   "id": "852baa38-2284-44f7-81e7-4106959094cd",
   "metadata": {
    "height": 97
   },
   "outputs": [
    {
     "name": "stderr",
     "output_type": "stream",
     "text": [
      "\u001b[92mINFO \u001b[0m: Starting Flower ServerApp, config: num_rounds=3, no round_timeout\n",
      "\u001b[92mINFO \u001b[0m: \n",
      "\u001b[92mINFO \u001b[0m: [INIT]\n",
      "\u001b[92mINFO \u001b[0m: Using initial global parameters provided by strategy\n",
      "\u001b[92mINFO \u001b[0m: Evaluating initial global parameters\n",
      "\u001b[92mINFO \u001b[0m: \n",
      "\u001b[92mINFO \u001b[0m: [ROUND 1]\n",
      "\u001b[92mINFO \u001b[0m: configure_fit: strategy sampled 5 clients (out of 5)\n",
      "\u001b[2m\u001b[36m(ClientAppActor pid=1548)\u001b[0m \u001b[92mINFO \u001b[0m: client trains for 2 epochs\n",
      "\u001b[2m\u001b[36m(ClientAppActor pid=33412)\u001b[0m Stack (most recent call first):\n",
      "\u001b[2m\u001b[36m(ClientAppActor pid=33412)\u001b[0m   File \"c:\\Users\\delma\\OneDrive\\Bureau\\4eme_EI\\Artificial_Inteligence\\Intership_Steve_DELMAS_2025\\venv\\Lib\\site-packages\\PIL\\ImageFile.py\", line 389 in load\n",
      "\u001b[2m\u001b[36m(ClientAppActor pid=33412)\u001b[0m   File \"c:\\Users\\delma\\OneDrive\\Bureau\\4eme_EI\\Artificial_Inteligence\\Intership_Steve_DELMAS_2025\\venv\\Lib\\site-packages\\datasets\\features\\image.py\", line 188 in decode_example\n",
      "\u001b[2m\u001b[36m(ClientAppActor pid=33412)\u001b[0m   File \"c:\\Users\\delma\\OneDrive\\Bureau\\4eme_EI\\Artificial_Inteligence\\Intership_Steve_DELMAS_2025\\venv\\Lib\\site-packages\\datasets\\features\\features.py\", line 1341 in decode_nested_example\n",
      "\u001b[2m\u001b[36m(ClientAppActor pid=33412)\u001b[0m   File \"c:\\Users\\delma\\OneDrive\\Bureau\\4eme_EI\\Artificial_Inteligence\\Intership_Steve_DELMAS_2025\\venv\\Lib\\site-packages\\datasets\\features\\features.py\", line 2019 in <listcomp>\n",
      "\u001b[2m\u001b[36m(ClientAppActor pid=33412)\u001b[0m   File \"c:\\Users\\delma\\OneDrive\\Bureau\\4eme_EI\\Artificial_Inteligence\\Intership_Steve_DELMAS_2025\\venv\\Lib\\site-packages\\datasets\\features\\features.py\", line 2018 in decode_batch\n",
      "\u001b[2m\u001b[36m(ClientAppActor pid=33412)\u001b[0m   File \"c:\\Users\\delma\\OneDrive\\Bureau\\4eme_EI\\Artificial_Inteligence\\Intership_Steve_DELMAS_2025\\venv\\Lib\\site-packages\\datasets\\formatting\\formatting.py\", line 222 in decode_batch\n",
      "\u001b[2m\u001b[36m(ClientAppActor pid=33412)\u001b[0m   File \"c:\\Users\\delma\\OneDrive\\Bureau\\4eme_EI\\Artificial_Inteligence\\Intership_Steve_DELMAS_2025\\venv\\Lib\\site-packages\\datasets\\formatting\\formatting.py\", line 515 in format_batch\n",
      "\u001b[2m\u001b[36m(ClientAppActor pid=33412)\u001b[0m   File \"c:\\Users\\delma\\OneDrive\\Bureau\\4eme_EI\\Artificial_Inteligence\\Intership_Steve_DELMAS_2025\\venv\\Lib\\site-packages\\datasets\\formatting\\formatting.py\", line 401 in __call__\n",
      "\u001b[2m\u001b[36m(ClientAppActor pid=33412)\u001b[0m   File \"c:\\Users\\delma\\OneDrive\\Bureau\\4eme_EI\\Artificial_Inteligence\\Intership_Steve_DELMAS_2025\\venv\\Lib\\site-packages\\datasets\\formatting\\formatting.py\", line 633 in format_table\n",
      "\u001b[2m\u001b[36m(ClientAppActor pid=33412)\u001b[0m   File \"c:\\Users\\delma\\OneDrive\\Bureau\\4eme_EI\\Artificial_Inteligence\\Intership_Steve_DELMAS_2025\\venv\\Lib\\site-packages\\datasets\\arrow_dataset.py\", line 2846 in _getitem\n",
      "\u001b[2m\u001b[36m(ClientAppActor pid=33412)\u001b[0m   File \"c:\\Users\\delma\\OneDrive\\Bureau\\4eme_EI\\Artificial_Inteligence\\Intership_Steve_DELMAS_2025\\venv\\Lib\\site-packages\\datasets\\arrow_dataset.py\", line 2861 in __getitem__\n",
      "\u001b[2m\u001b[36m(ClientAppActor pid=33412)\u001b[0m   File \"c:\\Users\\delma\\OneDrive\\Bureau\\4eme_EI\\Artificial_Inteligence\\Intership_Steve_DELMAS_2025\\venv\\Lib\\site-packages\\datasets\\arrow_dataset.py\", line 2865 in __getitems__\n",
      "\u001b[2m\u001b[36m(ClientAppActor pid=33412)\u001b[0m   File \"c:\\Users\\delma\\OneDrive\\Bureau\\4eme_EI\\Artificial_Inteligence\\Intership_Steve_DELMAS_2025\\venv\\Lib\\site-packages\\torch\\utils\\data\\_utils\\fetch.py\", line 49 in fetch\n",
      "\u001b[2m\u001b[36m(ClientAppActor pid=33412)\u001b[0m   File \"c:\\Users\\delma\\OneDrive\\Bureau\\4eme_EI\\Artificial_Inteligence\\Intership_Steve_DELMAS_2025\\venv\\Lib\\site-packages\\torch\\utils\\data\\dataloader.py\", line 675 in _next_data\n",
      "\u001b[2m\u001b[36m(ClientAppActor pid=33412)\u001b[0m   File \"c:\\Users\\delma\\OneDrive\\Bureau\\4eme_EI\\Artificial_Inteligence\\Intership_Steve_DELMAS_2025\\venv\\Lib\\site-packages\\torch\\utils\\data\\dataloader.py\", line 631 in __next__\n",
      "\u001b[2m\u001b[36m(ClientAppActor pid=33412)\u001b[0m   File \"C:\\Users\\delma\\AppData\\Local\\Temp\\ray\\session_2025-05-19_13-02-37_377736_33776\\runtime_resources\\working_dir_files\\_ray_pkg_1002a1be9df93767\\utils3.py\", line 112 in train_model\n",
      "\u001b[2m\u001b[36m(ClientAppActor pid=33412)\u001b[0m   File \"C:\\Users\\delma\\AppData\\Local\\Temp\\ipykernel_33776\\3147746271.py\", line 12 in fit\n",
      "\u001b[2m\u001b[36m(ClientAppActor pid=33412)\u001b[0m   File \"c:\\Users\\delma\\OneDrive\\Bureau\\4eme_EI\\Artificial_Inteligence\\Intership_Steve_DELMAS_2025\\venv\\Lib\\site-packages\\flwr\\client\\numpy_client.py\", line 238 in _fit\n",
      "\u001b[2m\u001b[36m(ClientAppActor pid=33412)\u001b[0m   File \"c:\\Users\\delma\\OneDrive\\Bureau\\4eme_EI\\Artificial_Inteligence\\Intership_Steve_DELMAS_2025\\venv\\Lib\\site-packages\\flwr\\client\\client.py\", line 234 in maybe_call_fit\n",
      "\u001b[2m\u001b[36m(ClientAppActor pid=33412)\u001b[0m   File \"c:\\Users\\delma\\OneDrive\\Bureau\\4eme_EI\\Artificial_Inteligence\\Intership_Steve_DELMAS_2025\\venv\\Lib\\site-packages\\flwr\\client\\message_handler\\message_handler.py\", line 129 in handle_legacy_message_from_msgtype\n",
      "\u001b[2m\u001b[36m(ClientAppActor pid=33412)\u001b[0m   File \"c:\\Users\\delma\\OneDrive\\Bureau\\4eme_EI\\Artificial_Inteligence\\Intership_Steve_DELMAS_2025\\venv\\Lib\\site-packages\\flwr\\client\\client_app.py\", line 126 in ffn\n",
      "\u001b[2m\u001b[36m(ClientAppActor pid=33412)\u001b[0m   File \"c:\\Users\\delma\\OneDrive\\Bureau\\4eme_EI\\Artificial_Inteligence\\Intership_Steve_DELMAS_2025\\venv\\Lib\\site-packages\\flwr\\client\\client_app.py\", line 143 in __call__\n",
      "\u001b[2m\u001b[36m(ClientAppActor pid=33412)\u001b[0m   File \"c:\\Users\\delma\\OneDrive\\Bureau\\4eme_EI\\Artificial_Inteligence\\Intership_Steve_DELMAS_2025\\venv\\Lib\\site-packages\\flwr\\simulation\\ray_transport\\ray_actor.py\", line 57 in run\n",
      "\u001b[2m\u001b[36m(ClientAppActor pid=33412)\u001b[0m   File \"c:\\Users\\delma\\OneDrive\\Bureau\\4eme_EI\\Artificial_Inteligence\\Intership_Steve_DELMAS_2025\\venv\\Lib\\site-packages\\ray\\util\\tracing\\tracing_helper.py\", line 464 in _resume_span\n",
      "\u001b[2m\u001b[36m(ClientAppActor pid=33412)\u001b[0m   File \"c:\\Users\\delma\\OneDrive\\Bureau\\4eme_EI\\Artificial_Inteligence\\Intership_Steve_DELMAS_2025\\venv\\Lib\\site-packages\\ray\\_private\\function_manager.py\", line 726 in actor_method_executor\n",
      "\u001b[2m\u001b[36m(ClientAppActor pid=33412)\u001b[0m   File \"c:\\Users\\delma\\OneDrive\\Bureau\\4eme_EI\\Artificial_Inteligence\\Intership_Steve_DELMAS_2025\\venv\\Lib\\site-packages\\ray\\_private\\worker.py\", line 779 in main_loop\n",
      "\u001b[2m\u001b[36m(ClientAppActor pid=33412)\u001b[0m   File \"c:\\Users\\delma\\OneDrive\\Bureau\\4eme_EI\\Artificial_Inteligence\\Intership_Steve_DELMAS_2025\\venv\\Lib\\site-packages\\ray\\_private\\workers\\default_worker.py\", line 264 in <module>\n",
      "\u001b[2m\u001b[33m(raylet)\u001b[0m [libprotobuf ERROR external/com_google_protobuf/src/google/protobuf/wire_format_lite.cc:581] String field 'ray.rpc.WorkerTableData.exit_detail' contains invalid UTF-8 data when serializing a protocol buffer. Use the 'bytes' type if you intend to send raw bytes. \n",
      "\u001b[2m\u001b[33m(raylet)\u001b[0m [2025-05-19 13:03:05,867 E 1892 28996] (raylet.exe) logging.cc:97: Unhandled exception: class nlohmann::detail::type_error. what(): [json.exception.type_error.316] invalid UTF-8 byte at index 548: 0xFB\n",
      "\u001b[2m\u001b[33m(raylet)\u001b[0m [2025-05-19 13:03:05,877 E 1892 28996] (raylet.exe) logging.cc:104: Stack trace: \n",
      "\u001b[2m\u001b[33m(raylet)\u001b[0m  unknown\n",
      "\u001b[2m\u001b[33m(raylet)\u001b[0m unknown\n",
      "\u001b[2m\u001b[33m(raylet)\u001b[0m terminate\n",
      "\u001b[2m\u001b[33m(raylet)\u001b[0m unknown\n",
      "\u001b[2m\u001b[33m(raylet)\u001b[0m unknown\n",
      "\u001b[2m\u001b[33m(raylet)\u001b[0m unknown\n",
      "\u001b[2m\u001b[33m(raylet)\u001b[0m _CxxFrameHandler4\n",
      "\u001b[2m\u001b[33m(raylet)\u001b[0m unknown\n",
      "\u001b[2m\u001b[33m(raylet)\u001b[0m _chkstk\n",
      "\u001b[2m\u001b[33m(raylet)\u001b[0m RtlWow64GetCurrentCpuArea\n",
      "\u001b[2m\u001b[33m(raylet)\u001b[0m RtlRaiseException\n",
      "\u001b[2m\u001b[33m(raylet)\u001b[0m RaiseException\n",
      "\u001b[2m\u001b[33m(raylet)\u001b[0m CxxThrowException\n",
      "\u001b[2m\u001b[33m(raylet)\u001b[0m unknown\n",
      "\u001b[2m\u001b[33m(raylet)\u001b[0m unknown\n",
      "\u001b[2m\u001b[33m(raylet)\u001b[0m unknown\n",
      "\u001b[2m\u001b[33m(raylet)\u001b[0m unknown\n",
      "\u001b[2m\u001b[33m(raylet)\u001b[0m unknown\n",
      "\u001b[2m\u001b[33m(raylet)\u001b[0m unknown\n",
      "\u001b[2m\u001b[33m(raylet)\u001b[0m unknown\n",
      "\u001b[2m\u001b[33m(raylet)\u001b[0m unknown\n",
      "\u001b[2m\u001b[33m(raylet)\u001b[0m unknown\n",
      "\u001b[2m\u001b[33m(raylet)\u001b[0m unknown\n",
      "\u001b[2m\u001b[33m(raylet)\u001b[0m unknown\n",
      "\u001b[2m\u001b[33m(raylet)\u001b[0m unknown\n",
      "\u001b[2m\u001b[33m(raylet)\u001b[0m unknown\n",
      "\u001b[2m\u001b[33m(raylet)\u001b[0m unknown\n",
      "\u001b[2m\u001b[33m(raylet)\u001b[0m unknown\n",
      "\u001b[2m\u001b[33m(raylet)\u001b[0m unknown\n",
      "\u001b[2m\u001b[33m(raylet)\u001b[0m unknown\n",
      "\u001b[2m\u001b[33m(raylet)\u001b[0m unknown\n",
      "\u001b[2m\u001b[33m(raylet)\u001b[0m unknown\n",
      "\u001b[2m\u001b[33m(raylet)\u001b[0m unknown\n",
      "\u001b[2m\u001b[33m(raylet)\u001b[0m unknown\n",
      "\u001b[2m\u001b[33m(raylet)\u001b[0m unknown\n",
      "\u001b[2m\u001b[33m(raylet)\u001b[0m unknown\n",
      "\u001b[2m\u001b[33m(raylet)\u001b[0m BaseThreadInitThunk\n",
      "\u001b[2m\u001b[33m(raylet)\u001b[0m RtlUserThreadStart\n",
      "\u001b[2m\u001b[33m(raylet)\u001b[0m \n",
      "\u001b[2m\u001b[33m(raylet)\u001b[0m *** SIGABRT received at time=1747652585 ***\n",
      "\u001b[2m\u001b[33m(raylet)\u001b[0m     @   00007FFDE19C4AB1  (unknown)  abort\n",
      "\u001b[2m\u001b[33m(raylet)\u001b[0m     @   00007FF78E3CD116  (unknown)  (unknown)\n",
      "\u001b[2m\u001b[33m(raylet)\u001b[0m     @   00007FFDE19E19D7  (unknown)  terminate\n",
      "\u001b[2m\u001b[33m(raylet)\u001b[0m     @   00007FFDD9011911  (unknown)  (unknown)\n",
      "\u001b[2m\u001b[33m(raylet)\u001b[0m     @   00007FFDD901218F  (unknown)  (unknown)\n",
      "\u001b[2m\u001b[33m(raylet)\u001b[0m     @   00007FFDD90121E9  (unknown)  (unknown)\n",
      "\u001b[2m\u001b[33m(raylet)\u001b[0m     @   00007FFDD9014019  (unknown)  _CxxFrameHandler4\n",
      "\u001b[2m\u001b[33m(raylet)\u001b[0m     @   00007FF78E85FBCC  (unknown)  (unknown)\n",
      "\u001b[2m\u001b[33m(raylet)\u001b[0m     @   00007FFDE40A66AF  (unknown)  _chkstk\n",
      "\u001b[2m\u001b[33m(raylet)\u001b[0m     @   00007FFDE3FC9CD7  (unknown)  RtlWow64GetCurrentCpuArea\n",
      "\u001b[2m\u001b[33m(raylet)\u001b[0m     @   00007FFDE3FC8B66  (unknown)  RtlRaiseException\n",
      "\u001b[2m\u001b[33m(raylet)\u001b[0m     @   00007FFDE13D9F0A  (unknown)  RaiseException\n",
      "\u001b[2m\u001b[33m(raylet)\u001b[0m     @   00007FFD4AEC5267  (unknown)  CxxThrowException\n",
      "\u001b[2m\u001b[33m(raylet)\u001b[0m     @   00007FF78E36F7B5  (unknown)  (unknown)\n",
      "\u001b[2m\u001b[33m(raylet)\u001b[0m     @   00007FF78E36EEE3  (unknown)  (unknown)\n",
      "\u001b[2m\u001b[33m(raylet)\u001b[0m     @   00007FF78E36EBEE  (unknown)  (unknown)\n",
      "\u001b[2m\u001b[33m(raylet)\u001b[0m     @   00007FF78E3DFC61  (unknown)  (unknown)\n",
      "\u001b[2m\u001b[33m(raylet)\u001b[0m     @   00007FF78E3DDF0D  (unknown)  (unknown)\n",
      "\u001b[2m\u001b[33m(raylet)\u001b[0m     @   00007FF78E3DE312  (unknown)  (unknown)\n",
      "\u001b[2m\u001b[33m(raylet)\u001b[0m     @   00007FF78E3DF052  (unknown)  (unknown)\n",
      "\u001b[2m\u001b[33m(raylet)\u001b[0m     @   00007FF78E3DCF07  (unknown)  (unknown)\n",
      "\u001b[2m\u001b[33m(raylet)\u001b[0m     @   00007FF78E17EEC5  (unknown)  (unknown)\n",
      "\u001b[2m\u001b[33m(raylet)\u001b[0m     @   00007FF78E1A0CE1  (unknown)  (unknown)\n",
      "\u001b[2m\u001b[33m(raylet)\u001b[0m     @   00007FF78E1A0734  (unknown)  (unknown)\n",
      "\u001b[2m\u001b[33m(raylet)\u001b[0m     @   00007FF78E126F39  (unknown)  (unknown)\n",
      "\u001b[2m\u001b[33m(raylet)\u001b[0m     @   00007FF78E394B46  (unknown)  (unknown)\n",
      "\u001b[2m\u001b[33m(raylet)\u001b[0m     @   00007FF78E395037  (unknown)  (unknown)\n",
      "\u001b[2m\u001b[33m(raylet)\u001b[0m     @   00007FF78E3A2D8B  (unknown)  (unknown)\n",
      "\u001b[2m\u001b[33m(raylet)\u001b[0m     @   00007FF78E392015  (unknown)  (unknown)\n",
      "\u001b[2m\u001b[33m(raylet)\u001b[0m     @   00007FF78E38DC1E  (unknown)  (unknown)\n",
      "\u001b[2m\u001b[33m(raylet)\u001b[0m     @   00007FF78E3971AE  (unknown)  (unknown)\n",
      "\u001b[2m\u001b[33m(raylet)\u001b[0m     @   00007FF78E8181EC  (unknown)  (unknown)\n",
      "\u001b[2m\u001b[33m(raylet)\u001b[0m [2025-05-19 13:03:05,878 E 1892 28996] (raylet.exe) logging.cc:361: *** SIGABRT received at time=1747652585 ***\n",
      "\u001b[2m\u001b[33m(raylet)\u001b[0m [2025-05-19 13:03:05,878 E 1892 28996] (raylet.exe) logging.cc:361:     @   00007FFDE19C4AB1  (unknown)  abort\n",
      "\u001b[2m\u001b[33m(raylet)\u001b[0m [2025-05-19 13:03:05,878 E 1892 28996] (raylet.exe) logging.cc:361:     @   00007FF78E3CD116  (unknown)  (unknown)\n",
      "\u001b[2m\u001b[33m(raylet)\u001b[0m [2025-05-19 13:03:05,878 E 1892 28996] (raylet.exe) logging.cc:361:     @   00007FFDE19E19D7  (unknown)  terminate\n",
      "\u001b[2m\u001b[33m(raylet)\u001b[0m [2025-05-19 13:03:05,878 E 1892 28996] (raylet.exe) logging.cc:361:     @   00007FFDD9011911  (unknown)  (unknown)\n",
      "\u001b[2m\u001b[33m(raylet)\u001b[0m [2025-05-19 13:03:05,878 E 1892 28996] (raylet.exe) logging.cc:361:     @   00007FFDD901218F  (unknown)  (unknown)\n",
      "\u001b[2m\u001b[33m(raylet)\u001b[0m [2025-05-19 13:03:05,878 E 1892 28996] (raylet.exe) logging.cc:361:     @   00007FFDD90121E9  (unknown)  (unknown)\n",
      "\u001b[2m\u001b[33m(raylet)\u001b[0m [2025-05-19 13:03:05,878 E 1892 28996] (raylet.exe) logging.cc:361:     @   00007FFDD9014019  (unknown)  _CxxFrameHandler4\n",
      "\u001b[2m\u001b[33m(raylet)\u001b[0m [2025-05-19 13:03:05,878 E 1892 28996] (raylet.exe) logging.cc:361:     @   00007FF78E85FBCC  (unknown)  (unknown)\n",
      "\u001b[2m\u001b[33m(raylet)\u001b[0m [2025-05-19 13:03:05,878 E 1892 28996] (raylet.exe) logging.cc:361:     @   00007FFDE40A66AF  (unknown)  _chkstk\n",
      "\u001b[2m\u001b[33m(raylet)\u001b[0m [2025-05-19 13:03:05,878 E 1892 28996] (raylet.exe) logging.cc:361:     @   00007FFDE3FC9CD7  (unknown)  RtlWow64GetCurrentCpuArea\n",
      "\u001b[2m\u001b[33m(raylet)\u001b[0m [2025-05-19 13:03:05,878 E 1892 28996] (raylet.exe) logging.cc:361:     @   00007FFDE3FC8B66  (unknown)  RtlRaiseException\n",
      "\u001b[2m\u001b[33m(raylet)\u001b[0m [2025-05-19 13:03:05,878 E 1892 28996] (raylet.exe) logging.cc:361:     @   00007FFDE13D9F0A  (unknown)  RaiseException\n",
      "\u001b[2m\u001b[33m(raylet)\u001b[0m [2025-05-19 13:03:05,878 E 1892 28996] (raylet.exe) logging.cc:361:     @   00007FFD4AEC5267  (unknown)  CxxThrowException\n",
      "\u001b[2m\u001b[33m(raylet)\u001b[0m [2025-05-19 13:03:05,878 E 1892 28996] (raylet.exe) logging.cc:361:     @   00007FF78E36F7B5  (unknown)  (unknown)\n",
      "\u001b[2m\u001b[33m(raylet)\u001b[0m [2025-05-19 13:03:05,878 E 1892 28996] (raylet.exe) logging.cc:361:     @   00007FF78E36EEE3  (unknown)  (unknown)\n",
      "\u001b[2m\u001b[33m(raylet)\u001b[0m [2025-05-19 13:03:05,878 E 1892 28996] (raylet.exe) logging.cc:361:     @   00007FF78E36EBEE  (unknown)  (unknown)\n",
      "\u001b[2m\u001b[33m(raylet)\u001b[0m [2025-05-19 13:03:05,878 E 1892 28996] (raylet.exe) logging.cc:361:     @   00007FF78E3DFC61  (unknown)  (unknown)\n",
      "\u001b[2m\u001b[33m(raylet)\u001b[0m [2025-05-19 13:03:05,878 E 1892 28996] (raylet.exe) logging.cc:361:     @   00007FF78E3DDF0D  (unknown)  (unknown)\n",
      "\u001b[2m\u001b[33m(raylet)\u001b[0m [2025-05-19 13:03:05,878 E 1892 28996] (raylet.exe) logging.cc:361:     @   00007FF78E3DE312  (unknown)  (unknown)\n",
      "\u001b[2m\u001b[33m(raylet)\u001b[0m [2025-05-19 13:03:05,878 E 1892 28996] (raylet.exe) logging.cc:361:     @   00007FF78E3DF052  (unknown)  (unknown)\n",
      "\u001b[2m\u001b[33m(raylet)\u001b[0m [2025-05-19 13:03:05,878 E 1892 28996] (raylet.exe) logging.cc:361:     @   00007FF78E3DCF07  (unknown)  (unknown)\n",
      "\u001b[2m\u001b[33m(raylet)\u001b[0m [2025-05-19 13:03:05,878 E 1892 28996] (raylet.exe) logging.cc:361:     @   00007FF78E17EEC5  (unknown)  (unknown)\n",
      "\u001b[2m\u001b[33m(raylet)\u001b[0m [2025-05-19 13:03:05,879 E 1892 28996] (raylet.exe) logging.cc:361:     @   00007FF78E1A0CE1  (unknown)  (unknown)\n",
      "\u001b[2m\u001b[33m(raylet)\u001b[0m [2025-05-19 13:03:05,879 E 1892 28996] (raylet.exe) logging.cc:361:     @   00007FF78E1A0734  (unknown)  (unknown)\n",
      "\u001b[2m\u001b[33m(raylet)\u001b[0m [2025-05-19 13:03:05,879 E 1892 28996] (raylet.exe) logging.cc:361:     @   00007FF78E126F39  (unknown)  (unknown)\n",
      "\u001b[2m\u001b[33m(raylet)\u001b[0m [2025-05-19 13:03:05,879 E 1892 28996] (raylet.exe) logging.cc:361:     @   00007FF78E394B46  (unknown)  (unknown)\n",
      "\u001b[2m\u001b[33m(raylet)\u001b[0m [2025-05-19 13:03:05,879 E 1892 28996] (raylet.exe) logging.cc:361:     @   00007FF78E395037  (unknown)  (unknown)\n",
      "\u001b[2m\u001b[33m(raylet)\u001b[0m [2025-05-19 13:03:05,879 E 1892 28996] (raylet.exe) logging.cc:361:     @   00007FF78E3A2D8B  (unknown)  (unknown)\n",
      "\u001b[2m\u001b[33m(raylet)\u001b[0m [2025-05-19 13:03:05,879 E 1892 28996] (raylet.exe) logging.cc:361:     @   00007FF78E392015  (unknown)  (unknown)\n",
      "\u001b[2m\u001b[33m(raylet)\u001b[0m [2025-05-19 13:03:05,879 E 1892 28996] (raylet.exe) logging.cc:361:     @   00007FF78E38DC1E  (unknown)  (unknown)\n",
      "\u001b[2m\u001b[33m(raylet)\u001b[0m [2025-05-19 13:03:05,879 E 1892 28996] (raylet.exe) logging.cc:361:     @   00007FF78E3971AE  (unknown)  (unknown)\n",
      "\u001b[2m\u001b[33m(raylet)\u001b[0m [2025-05-19 13:03:05,879 E 1892 28996] (raylet.exe) logging.cc:361:     @   00007FF78E8181EC  (unknown)  (unknown)\n",
      "\u001b[2m\u001b[36m(pid=gcs_server)\u001b[0m [libprotobuf ERROR external/com_google_protobuf/src/google/protobuf/wire_format_lite.cc:581] String field 'ray.rpc.WorkerTableData.exit_detail' contains invalid UTF-8 data when parsing a protocol buffer. Use the 'bytes' type if you intend to send raw bytes. \n",
      "\u001b[92mINFO \u001b[0m: aggregate_fit: received 0 results and 5 failures\n",
      "\u001b[92mINFO \u001b[0m: configure_evaluate: no clients selected, skipping evaluation\n",
      "\u001b[92mINFO \u001b[0m: \n",
      "\u001b[92mINFO \u001b[0m: [ROUND 2]\n",
      "\u001b[92mINFO \u001b[0m: configure_fit: strategy sampled 5 clients (out of 5)\n",
      "\u001b[92mINFO \u001b[0m: aggregate_fit: received 0 results and 5 failures\n",
      "\u001b[92mINFO \u001b[0m: configure_evaluate: no clients selected, skipping evaluation\n",
      "\u001b[92mINFO \u001b[0m: \n",
      "\u001b[92mINFO \u001b[0m: [ROUND 3]\n",
      "\u001b[92mINFO \u001b[0m: configure_fit: strategy sampled 5 clients (out of 5)\n",
      "\u001b[92mINFO \u001b[0m: aggregate_fit: received 0 results and 5 failures\n",
      "\u001b[92mINFO \u001b[0m: configure_evaluate: no clients selected, skipping evaluation\n",
      "\u001b[92mINFO \u001b[0m: \n",
      "\u001b[92mINFO \u001b[0m: [SUMMARY]\n",
      "\u001b[92mINFO \u001b[0m: Run finished 3 round(s) in 48.02s\n",
      "\u001b[92mINFO \u001b[0m: \n",
      "\u001b[2m\u001b[36m(ClientAppActor pid=19480)\u001b[0m \u001b[92mINFO \u001b[0m: client trains for 2 epochs\u001b[32m [repeated 3x across cluster] (Ray deduplicates logs by default. Set RAY_DEDUP_LOGS=0 to disable log deduplication, or see https://docs.ray.io/en/master/ray-observability/ray-logging.html#log-deduplication for more options.)\u001b[0m\n"
     ]
    }
   ],
   "source": [
    "run_simulation(server_app=server,\n",
    "               client_app=client,\n",
    "               num_supernodes=5,\n",
    "               backend_config=backend_setup\n",
    "               )"
   ]
  }
 ],
 "metadata": {
  "kernelspec": {
   "display_name": "venv",
   "language": "python",
   "name": "python3"
  },
  "language_info": {
   "codemirror_mode": {
    "name": "ipython",
    "version": 3
   },
   "file_extension": ".py",
   "mimetype": "text/x-python",
   "name": "python",
   "nbconvert_exporter": "python",
   "pygments_lexer": "ipython3",
   "version": "3.11.9"
  }
 },
 "nbformat": 4,
 "nbformat_minor": 5
}
