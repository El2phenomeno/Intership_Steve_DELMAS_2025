{
 "cells": [
  {
   "cell_type": "code",
   "execution_count": null,
   "id": "eed67bf7",
   "metadata": {},
   "outputs": [],
   "source": [
    "# Flower-based CIFAR-10 Federated Learning with Attacks\n",
    "\n",
    "import flwr as fl\n",
    "import torch\n",
    "import torch.nn as nn\n",
    "import torch.nn.functional as F\n",
    "import torch.optim as optim\n",
    "import torchvision\n",
    "import torchvision.transforms as transforms\n",
    "import numpy as np\n",
    "import random\n",
    "import copy\n",
    "from collections import OrderedDict\n",
    "import matplotlib.pyplot as plt"
   ]
  },
  {
   "cell_type": "code",
   "execution_count": null,
   "id": "07f6dc53",
   "metadata": {},
   "outputs": [],
   "source": [
    "# Configuration\n",
    "NUM_CLIENTS = 10\n",
    "NUM_ROUNDS = 5\n",
    "ATTACK_TYPE = \"inverted\"\n",
    "MALICIOUS_FRACTION = 0.3\n",
    "DEVICE = torch.device(\"cuda\" if torch.cuda.is_available() else \"cpu\")"
   ]
  },
  {
   "cell_type": "code",
   "execution_count": null,
   "id": "24cec9f6",
   "metadata": {},
   "outputs": [],
   "source": [
    "# CIFAR-10 preprocessing\n",
    "transform = transforms.Compose([transforms.ToTensor()])\n",
    "dataset = torchvision.datasets.CIFAR10(root=\"./data\", train=True, download=True, transform=transform)\n",
    "testset = torchvision.datasets.CIFAR10(root=\"./data\", train=False, download=True, transform=transform)"
   ]
  },
  {
   "cell_type": "code",
   "execution_count": null,
   "id": "bf976a0c",
   "metadata": {},
   "outputs": [],
   "source": [
    "# Partition the dataset into clients\n",
    "def partition_dataset(dataset, num_clients):\n",
    "    data_split = torch.utils.data.random_split(dataset, [len(dataset)//num_clients]*num_clients)\n",
    "    return data_split\n",
    "\n",
    "client_datasets = partition_dataset(dataset, NUM_CLIENTS)"
   ]
  },
  {
   "cell_type": "code",
   "execution_count": null,
   "id": "5dd2074d",
   "metadata": {},
   "outputs": [],
   "source": [
    "# Simple CNN\n",
    "class SimpleCNN(nn.Module):\n",
    "    def __init__(self):\n",
    "        super().__init__()\n",
    "        self.conv1 = nn.Conv2d(3, 32, 3, padding=1)\n",
    "        self.conv2 = nn.Conv2d(32, 64, 3, padding=1)\n",
    "        self.pool = nn.MaxPool2d(2, 2)\n",
    "        self.fc1 = nn.Linear(64 * 8 * 8, 512)\n",
    "        self.fc2 = nn.Linear(512, 10)\n",
    "\n",
    "    def forward(self, x):\n",
    "        x = self.pool(F.relu(self.conv1(x)))\n",
    "        x = self.pool(F.relu(self.conv2(x)))\n",
    "        x = x.view(-1, 64 * 8 * 8)\n",
    "        x = F.relu(self.fc1(x))\n",
    "        x = self.fc2(x)\n",
    "        return x"
   ]
  },
  {
   "cell_type": "code",
   "execution_count": null,
   "id": "e2c966d7",
   "metadata": {},
   "outputs": [],
   "source": [
    "# Poisoning function\n",
    "def poison_data(inputs, labels, attack_type):\n",
    "    if attack_type == \"random_label\":\n",
    "        labels = torch.randint(0, 10, labels.shape)\n",
    "    elif attack_type == \"random_input\":\n",
    "        inputs = torch.rand_like(inputs)\n",
    "    elif attack_type == \"inverted\":\n",
    "        inputs = 1 - inputs\n",
    "    elif attack_type == \"targeted\":\n",
    "        labels = torch.ones_like(labels)\n",
    "    return inputs, labels"
   ]
  },
  {
   "cell_type": "code",
   "execution_count": null,
   "id": "4c968959",
   "metadata": {},
   "outputs": [],
   "source": [
    "# Flower client\n",
    "class CifarClient(fl.client.NumPyClient):\n",
    "    def __init__(self, model, train_data, is_malicious=False):\n",
    "        self.model = model\n",
    "        self.train_data = train_data\n",
    "        self.is_malicious = is_malicious\n",
    "\n",
    "    def get_parameters(self, config):\n",
    "        return [val.cpu().numpy() for _, val in self.model.state_dict().items()]\n",
    "\n",
    "    def set_parameters(self, parameters):\n",
    "        params_dict = zip(self.model.state_dict().keys(), parameters)\n",
    "        state_dict = OrderedDict({k: torch.tensor(v) for k, v in params_dict})\n",
    "        self.model.load_state_dict(state_dict, strict=True)\n",
    "\n",
    "    def fit(self, parameters, config):\n",
    "        self.set_parameters(parameters)\n",
    "        self.model.train()\n",
    "        trainloader = torch.utils.data.DataLoader(self.train_data, batch_size=32, shuffle=True)\n",
    "        optimizer = optim.Adam(self.model.parameters(), lr=0.001)\n",
    "        for epoch in range(1):\n",
    "            for inputs, labels in trainloader:\n",
    "                inputs, labels = inputs.to(DEVICE), labels.to(DEVICE)\n",
    "                if self.is_malicious:\n",
    "                    inputs, labels = poison_data(inputs, labels, ATTACK_TYPE)\n",
    "                optimizer.zero_grad()\n",
    "                outputs = self.model(inputs)\n",
    "                loss = F.cross_entropy(outputs, labels)\n",
    "                loss.backward()\n",
    "                optimizer.step()\n",
    "        return self.get_parameters(config), len(self.train_data), {}\n",
    "\n",
    "    def evaluate(self, parameters, config):\n",
    "        self.set_parameters(parameters)\n",
    "        self.model.eval()\n",
    "        testloader = torch.utils.data.DataLoader(testset, batch_size=32)\n",
    "        correct, total, loss = 0, 0, 0.0\n",
    "        with torch.no_grad():\n",
    "            for inputs, labels in testloader:\n",
    "                inputs, labels = inputs.to(DEVICE), labels.to(DEVICE)\n",
    "                outputs = self.model(inputs)\n",
    "                loss += F.cross_entropy(outputs, labels, reduction='sum').item()\n",
    "                correct += (outputs.argmax(1) == labels).sum().item()\n",
    "                total += labels.size(0)\n",
    "        acc = correct / total\n",
    "        metrics_log.append({\"round\": config.get(\"server_round\", 0), \"accuracy\": acc})\n",
    "        return loss / total, total, {\"accuracy\": acc}"
   ]
  },
  {
   "cell_type": "code",
   "execution_count": null,
   "id": "6caf39d9",
   "metadata": {},
   "outputs": [],
   "source": [
    "# Global metrics log\n",
    "metrics_log = []"
   ]
  },
  {
   "cell_type": "code",
   "execution_count": null,
   "id": "97177d7b",
   "metadata": {},
   "outputs": [],
   "source": [
    "# Client function\n",
    "def client_fn(cid):\n",
    "    cid = int(cid)\n",
    "    model = SimpleCNN().to(DEVICE)\n",
    "    is_malicious = cid < int(NUM_CLIENTS * MALICIOUS_FRACTION)\n",
    "    return CifarClient(model, client_datasets[cid], is_malicious)"
   ]
  },
  {
   "cell_type": "code",
   "execution_count": null,
   "id": "4b8baf56",
   "metadata": {},
   "outputs": [],
   "source": [
    "# Start simulation\n",
    "strategy = fl.server.strategy.FedAvg()\n",
    "fl.simulation.start_simulation(\n",
    "    client_fn=client_fn,\n",
    "    num_clients=NUM_CLIENTS,\n",
    "    config=fl.server.ServerConfig(num_rounds=NUM_ROUNDS),\n",
    "    strategy=strategy,\n",
    ")"
   ]
  },
  {
   "cell_type": "code",
   "execution_count": null,
   "id": "11ab7ed6",
   "metadata": {},
   "outputs": [],
   "source": [
    "# Plot accuracy over rounds\n",
    "rounds = [m[\"round\"] for m in metrics_log]\n",
    "accuracies = [m[\"accuracy\"] for m in metrics_log]\n",
    "plt.plot(rounds, accuracies)\n",
    "plt.xlabel(\"Round\")\n",
    "plt.ylabel(\"Accuracy\")\n",
    "plt.title(\"Global Accuracy over Rounds\")\n",
    "plt.grid(True)\n",
    "plt.show()"
   ]
  }
 ],
 "metadata": {
  "language_info": {
   "name": "python"
  }
 },
 "nbformat": 4,
 "nbformat_minor": 5
}
