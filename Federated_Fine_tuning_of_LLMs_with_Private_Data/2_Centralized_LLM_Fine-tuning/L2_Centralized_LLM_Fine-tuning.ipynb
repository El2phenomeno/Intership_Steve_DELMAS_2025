{
 "cells": [
  {
   "cell_type": "markdown",
   "id": "64c1a2de",
   "metadata": {},
   "source": [
    "# Lesson 2: Centralized LLM Fine-tuning"
   ]
  },
  {
   "cell_type": "code",
   "execution_count": 11,
   "id": "6b3ad219",
   "metadata": {},
   "outputs": [
    {
     "name": "stdout",
     "output_type": "stream",
     "text": [
      "Requirement already satisfied: flwr==1.10.0 in c:\\users\\delma\\onedrive\\bureau\\4eme_ei\\artificial_inteligence\\intership_steve_delmas_2025\\venv\\lib\\site-packages (from -r requirements.txt (line 7)) (1.10.0)\n",
      "Requirement already satisfied: ray==2.6.3 in c:\\users\\delma\\onedrive\\bureau\\4eme_ei\\artificial_inteligence\\intership_steve_delmas_2025\\venv\\lib\\site-packages (from -r requirements.txt (line 8)) (2.6.3)\n",
      "Requirement already satisfied: flwr_datasets==0.2.0 in c:\\users\\delma\\onedrive\\bureau\\4eme_ei\\artificial_inteligence\\intership_steve_delmas_2025\\venv\\lib\\site-packages (from -r requirements.txt (line 9)) (0.2.0)\n",
      "Requirement already satisfied: hydra-core==1.3.2 in c:\\users\\delma\\onedrive\\bureau\\4eme_ei\\artificial_inteligence\\intership_steve_delmas_2025\\venv\\lib\\site-packages (from -r requirements.txt (line 10)) (1.3.2)\n",
      "Requirement already satisfied: trl==0.8.1 in c:\\users\\delma\\onedrive\\bureau\\4eme_ei\\artificial_inteligence\\intership_steve_delmas_2025\\venv\\lib\\site-packages (from -r requirements.txt (line 11)) (0.8.1)\n",
      "Requirement already satisfied: bitsandbytes==0.43.0 in c:\\users\\delma\\onedrive\\bureau\\4eme_ei\\artificial_inteligence\\intership_steve_delmas_2025\\venv\\lib\\site-packages (from -r requirements.txt (line 12)) (0.43.0)\n",
      "Requirement already satisfied: scipy==1.13.0 in c:\\users\\delma\\onedrive\\bureau\\4eme_ei\\artificial_inteligence\\intership_steve_delmas_2025\\venv\\lib\\site-packages (from -r requirements.txt (line 13)) (1.13.0)\n",
      "Requirement already satisfied: peft==0.6.2 in c:\\users\\delma\\onedrive\\bureau\\4eme_ei\\artificial_inteligence\\intership_steve_delmas_2025\\venv\\lib\\site-packages (from -r requirements.txt (line 14)) (0.6.2)\n",
      "Requirement already satisfied: transformers==4.39.3 in c:\\users\\delma\\onedrive\\bureau\\4eme_ei\\artificial_inteligence\\intership_steve_delmas_2025\\venv\\lib\\site-packages (from -r requirements.txt (line 15)) (4.39.3)\n",
      "Requirement already satisfied: ipywidgets==8.1.2 in c:\\users\\delma\\onedrive\\bureau\\4eme_ei\\artificial_inteligence\\intership_steve_delmas_2025\\venv\\lib\\site-packages (from -r requirements.txt (line 16)) (8.1.2)\n",
      "Requirement already satisfied: gradio==3.50.2 in c:\\users\\delma\\onedrive\\bureau\\4eme_ei\\artificial_inteligence\\intership_steve_delmas_2025\\venv\\lib\\site-packages (from -r requirements.txt (line 17)) (3.50.2)\n",
      "Requirement already satisfied: fireworks-ai==0.14.0 in c:\\users\\delma\\onedrive\\bureau\\4eme_ei\\artificial_inteligence\\intership_steve_delmas_2025\\venv\\lib\\site-packages (from -r requirements.txt (line 18)) (0.14.0)\n",
      "Requirement already satisfied: scikit-learn==1.4.0 in c:\\users\\delma\\onedrive\\bureau\\4eme_ei\\artificial_inteligence\\intership_steve_delmas_2025\\venv\\lib\\site-packages (from -r requirements.txt (line 19)) (1.4.0)\n",
      "Requirement already satisfied: cryptography==42.0.7 in c:\\users\\delma\\onedrive\\bureau\\4eme_ei\\artificial_inteligence\\intership_steve_delmas_2025\\venv\\lib\\site-packages (from -r requirements.txt (line 20)) (42.0.7)\n",
      "Requirement already satisfied: python-dotenv~=1.0.1 in c:\\users\\delma\\onedrive\\bureau\\4eme_ei\\artificial_inteligence\\intership_steve_delmas_2025\\venv\\lib\\site-packages (from -r requirements.txt (line 21)) (1.0.1)\n",
      "Requirement already satisfied: grpcio!=1.64.2,!=1.65.1,<2.0.0,>=1.60.0 in c:\\users\\delma\\onedrive\\bureau\\4eme_ei\\artificial_inteligence\\intership_steve_delmas_2025\\venv\\lib\\site-packages (from flwr==1.10.0->-r requirements.txt (line 7)) (1.71.0)\n",
      "Requirement already satisfied: iterators<0.0.3,>=0.0.2 in c:\\users\\delma\\onedrive\\bureau\\4eme_ei\\artificial_inteligence\\intership_steve_delmas_2025\\venv\\lib\\site-packages (from flwr==1.10.0->-r requirements.txt (line 7)) (0.0.2)\n",
      "Requirement already satisfied: numpy<2.0.0,>=1.21.0 in c:\\users\\delma\\onedrive\\bureau\\4eme_ei\\artificial_inteligence\\intership_steve_delmas_2025\\venv\\lib\\site-packages (from flwr==1.10.0->-r requirements.txt (line 7)) (1.26.4)\n",
      "Requirement already satisfied: pathspec<0.13.0,>=0.12.1 in c:\\users\\delma\\onedrive\\bureau\\4eme_ei\\artificial_inteligence\\intership_steve_delmas_2025\\venv\\lib\\site-packages (from flwr==1.10.0->-r requirements.txt (line 7)) (0.12.1)\n",
      "Requirement already satisfied: protobuf<5.0.0,>=4.25.2 in c:\\users\\delma\\onedrive\\bureau\\4eme_ei\\artificial_inteligence\\intership_steve_delmas_2025\\venv\\lib\\site-packages (from flwr==1.10.0->-r requirements.txt (line 7)) (4.25.7)\n",
      "Requirement already satisfied: pycryptodome<4.0.0,>=3.18.0 in c:\\users\\delma\\onedrive\\bureau\\4eme_ei\\artificial_inteligence\\intership_steve_delmas_2025\\venv\\lib\\site-packages (from flwr==1.10.0->-r requirements.txt (line 7)) (3.23.0)\n",
      "Requirement already satisfied: tomli<3.0.0,>=2.0.1 in c:\\users\\delma\\onedrive\\bureau\\4eme_ei\\artificial_inteligence\\intership_steve_delmas_2025\\venv\\lib\\site-packages (from flwr==1.10.0->-r requirements.txt (line 7)) (2.2.1)\n",
      "Requirement already satisfied: tomli-w<2.0.0,>=1.0.0 in c:\\users\\delma\\onedrive\\bureau\\4eme_ei\\artificial_inteligence\\intership_steve_delmas_2025\\venv\\lib\\site-packages (from flwr==1.10.0->-r requirements.txt (line 7)) (1.2.0)\n",
      "Requirement already satisfied: typer<0.10.0,>=0.9.0 in c:\\users\\delma\\onedrive\\bureau\\4eme_ei\\artificial_inteligence\\intership_steve_delmas_2025\\venv\\lib\\site-packages (from typer[all]<0.10.0,>=0.9.0->flwr==1.10.0->-r requirements.txt (line 7)) (0.9.4)\n",
      "Requirement already satisfied: click>=7.0 in c:\\users\\delma\\onedrive\\bureau\\4eme_ei\\artificial_inteligence\\intership_steve_delmas_2025\\venv\\lib\\site-packages (from ray==2.6.3->-r requirements.txt (line 8)) (8.2.0)\n",
      "Requirement already satisfied: filelock in c:\\users\\delma\\onedrive\\bureau\\4eme_ei\\artificial_inteligence\\intership_steve_delmas_2025\\venv\\lib\\site-packages (from ray==2.6.3->-r requirements.txt (line 8)) (3.18.0)\n",
      "Requirement already satisfied: jsonschema in c:\\users\\delma\\onedrive\\bureau\\4eme_ei\\artificial_inteligence\\intership_steve_delmas_2025\\venv\\lib\\site-packages (from ray==2.6.3->-r requirements.txt (line 8)) (4.23.0)\n",
      "Requirement already satisfied: msgpack<2.0.0,>=1.0.0 in c:\\users\\delma\\onedrive\\bureau\\4eme_ei\\artificial_inteligence\\intership_steve_delmas_2025\\venv\\lib\\site-packages (from ray==2.6.3->-r requirements.txt (line 8)) (1.1.0)\n",
      "Requirement already satisfied: packaging in c:\\users\\delma\\onedrive\\bureau\\4eme_ei\\artificial_inteligence\\intership_steve_delmas_2025\\venv\\lib\\site-packages (from ray==2.6.3->-r requirements.txt (line 8)) (25.0)\n",
      "Requirement already satisfied: pyyaml in c:\\users\\delma\\onedrive\\bureau\\4eme_ei\\artificial_inteligence\\intership_steve_delmas_2025\\venv\\lib\\site-packages (from ray==2.6.3->-r requirements.txt (line 8)) (6.0.2)\n",
      "Requirement already satisfied: aiosignal in c:\\users\\delma\\onedrive\\bureau\\4eme_ei\\artificial_inteligence\\intership_steve_delmas_2025\\venv\\lib\\site-packages (from ray==2.6.3->-r requirements.txt (line 8)) (1.3.2)\n",
      "Requirement already satisfied: frozenlist in c:\\users\\delma\\onedrive\\bureau\\4eme_ei\\artificial_inteligence\\intership_steve_delmas_2025\\venv\\lib\\site-packages (from ray==2.6.3->-r requirements.txt (line 8)) (1.6.0)\n",
      "Requirement already satisfied: requests in c:\\users\\delma\\onedrive\\bureau\\4eme_ei\\artificial_inteligence\\intership_steve_delmas_2025\\venv\\lib\\site-packages (from ray==2.6.3->-r requirements.txt (line 8)) (2.32.3)\n",
      "Requirement already satisfied: datasets<2.20.0,>=2.14.6 in c:\\users\\delma\\onedrive\\bureau\\4eme_ei\\artificial_inteligence\\intership_steve_delmas_2025\\venv\\lib\\site-packages (from flwr_datasets==0.2.0->-r requirements.txt (line 9)) (2.19.2)\n",
      "Requirement already satisfied: matplotlib<4.0.0,>=3.7.5 in c:\\users\\delma\\onedrive\\bureau\\4eme_ei\\artificial_inteligence\\intership_steve_delmas_2025\\venv\\lib\\site-packages (from flwr_datasets==0.2.0->-r requirements.txt (line 9)) (3.8.3)\n",
      "Requirement already satisfied: seaborn<0.14.0,>=0.13.0 in c:\\users\\delma\\onedrive\\bureau\\4eme_ei\\artificial_inteligence\\intership_steve_delmas_2025\\venv\\lib\\site-packages (from flwr_datasets==0.2.0->-r requirements.txt (line 9)) (0.13.2)\n",
      "Requirement already satisfied: tqdm<5.0.0,>=4.66.1 in c:\\users\\delma\\onedrive\\bureau\\4eme_ei\\artificial_inteligence\\intership_steve_delmas_2025\\venv\\lib\\site-packages (from flwr_datasets==0.2.0->-r requirements.txt (line 9)) (4.67.1)\n",
      "Requirement already satisfied: omegaconf<2.4,>=2.2 in c:\\users\\delma\\onedrive\\bureau\\4eme_ei\\artificial_inteligence\\intership_steve_delmas_2025\\venv\\lib\\site-packages (from hydra-core==1.3.2->-r requirements.txt (line 10)) (2.3.0)\n",
      "Requirement already satisfied: antlr4-python3-runtime==4.9.* in c:\\users\\delma\\onedrive\\bureau\\4eme_ei\\artificial_inteligence\\intership_steve_delmas_2025\\venv\\lib\\site-packages (from hydra-core==1.3.2->-r requirements.txt (line 10)) (4.9.3)\n",
      "Requirement already satisfied: torch>=1.4.0 in c:\\users\\delma\\onedrive\\bureau\\4eme_ei\\artificial_inteligence\\intership_steve_delmas_2025\\venv\\lib\\site-packages (from trl==0.8.1->-r requirements.txt (line 11)) (2.2.1)\n",
      "Requirement already satisfied: accelerate in c:\\users\\delma\\onedrive\\bureau\\4eme_ei\\artificial_inteligence\\intership_steve_delmas_2025\\venv\\lib\\site-packages (from trl==0.8.1->-r requirements.txt (line 11)) (0.30.0)\n",
      "Requirement already satisfied: tyro>=0.5.11 in c:\\users\\delma\\onedrive\\bureau\\4eme_ei\\artificial_inteligence\\intership_steve_delmas_2025\\venv\\lib\\site-packages (from trl==0.8.1->-r requirements.txt (line 11)) (0.9.20)\n",
      "Requirement already satisfied: psutil in c:\\users\\delma\\onedrive\\bureau\\4eme_ei\\artificial_inteligence\\intership_steve_delmas_2025\\venv\\lib\\site-packages (from peft==0.6.2->-r requirements.txt (line 14)) (7.0.0)\n",
      "Requirement already satisfied: safetensors in c:\\users\\delma\\onedrive\\bureau\\4eme_ei\\artificial_inteligence\\intership_steve_delmas_2025\\venv\\lib\\site-packages (from peft==0.6.2->-r requirements.txt (line 14)) (0.5.3)\n",
      "Requirement already satisfied: huggingface-hub<1.0,>=0.19.3 in c:\\users\\delma\\onedrive\\bureau\\4eme_ei\\artificial_inteligence\\intership_steve_delmas_2025\\venv\\lib\\site-packages (from transformers==4.39.3->-r requirements.txt (line 15)) (0.31.2)\n",
      "Requirement already satisfied: regex!=2019.12.17 in c:\\users\\delma\\onedrive\\bureau\\4eme_ei\\artificial_inteligence\\intership_steve_delmas_2025\\venv\\lib\\site-packages (from transformers==4.39.3->-r requirements.txt (line 15)) (2024.11.6)\n",
      "Requirement already satisfied: tokenizers<0.19,>=0.14 in c:\\users\\delma\\onedrive\\bureau\\4eme_ei\\artificial_inteligence\\intership_steve_delmas_2025\\venv\\lib\\site-packages (from transformers==4.39.3->-r requirements.txt (line 15)) (0.15.2)\n",
      "Requirement already satisfied: comm>=0.1.3 in c:\\users\\delma\\onedrive\\bureau\\4eme_ei\\artificial_inteligence\\intership_steve_delmas_2025\\venv\\lib\\site-packages (from ipywidgets==8.1.2->-r requirements.txt (line 16)) (0.2.2)\n",
      "Requirement already satisfied: ipython>=6.1.0 in c:\\users\\delma\\onedrive\\bureau\\4eme_ei\\artificial_inteligence\\intership_steve_delmas_2025\\venv\\lib\\site-packages (from ipywidgets==8.1.2->-r requirements.txt (line 16)) (9.2.0)\n",
      "Requirement already satisfied: traitlets>=4.3.1 in c:\\users\\delma\\onedrive\\bureau\\4eme_ei\\artificial_inteligence\\intership_steve_delmas_2025\\venv\\lib\\site-packages (from ipywidgets==8.1.2->-r requirements.txt (line 16)) (5.14.3)\n",
      "Requirement already satisfied: widgetsnbextension~=4.0.10 in c:\\users\\delma\\onedrive\\bureau\\4eme_ei\\artificial_inteligence\\intership_steve_delmas_2025\\venv\\lib\\site-packages (from ipywidgets==8.1.2->-r requirements.txt (line 16)) (4.0.14)\n",
      "Requirement already satisfied: jupyterlab-widgets~=3.0.10 in c:\\users\\delma\\onedrive\\bureau\\4eme_ei\\artificial_inteligence\\intership_steve_delmas_2025\\venv\\lib\\site-packages (from ipywidgets==8.1.2->-r requirements.txt (line 16)) (3.0.15)\n",
      "Requirement already satisfied: aiofiles<24.0,>=22.0 in c:\\users\\delma\\onedrive\\bureau\\4eme_ei\\artificial_inteligence\\intership_steve_delmas_2025\\venv\\lib\\site-packages (from gradio==3.50.2->-r requirements.txt (line 17)) (23.2.1)\n",
      "Requirement already satisfied: altair<6.0,>=4.2.0 in c:\\users\\delma\\onedrive\\bureau\\4eme_ei\\artificial_inteligence\\intership_steve_delmas_2025\\venv\\lib\\site-packages (from gradio==3.50.2->-r requirements.txt (line 17)) (5.5.0)\n",
      "Requirement already satisfied: fastapi in c:\\users\\delma\\onedrive\\bureau\\4eme_ei\\artificial_inteligence\\intership_steve_delmas_2025\\venv\\lib\\site-packages (from gradio==3.50.2->-r requirements.txt (line 17)) (0.115.12)\n",
      "Requirement already satisfied: ffmpy in c:\\users\\delma\\onedrive\\bureau\\4eme_ei\\artificial_inteligence\\intership_steve_delmas_2025\\venv\\lib\\site-packages (from gradio==3.50.2->-r requirements.txt (line 17)) (0.5.0)\n",
      "Requirement already satisfied: gradio-client==0.6.1 in c:\\users\\delma\\onedrive\\bureau\\4eme_ei\\artificial_inteligence\\intership_steve_delmas_2025\\venv\\lib\\site-packages (from gradio==3.50.2->-r requirements.txt (line 17)) (0.6.1)\n",
      "Requirement already satisfied: httpx in c:\\users\\delma\\onedrive\\bureau\\4eme_ei\\artificial_inteligence\\intership_steve_delmas_2025\\venv\\lib\\site-packages (from gradio==3.50.2->-r requirements.txt (line 17)) (0.28.1)\n",
      "Requirement already satisfied: importlib-resources<7.0,>=1.3 in c:\\users\\delma\\onedrive\\bureau\\4eme_ei\\artificial_inteligence\\intership_steve_delmas_2025\\venv\\lib\\site-packages (from gradio==3.50.2->-r requirements.txt (line 17)) (6.5.2)\n",
      "Requirement already satisfied: jinja2<4.0 in c:\\users\\delma\\onedrive\\bureau\\4eme_ei\\artificial_inteligence\\intership_steve_delmas_2025\\venv\\lib\\site-packages (from gradio==3.50.2->-r requirements.txt (line 17)) (3.1.6)\n",
      "Requirement already satisfied: markupsafe~=2.0 in c:\\users\\delma\\onedrive\\bureau\\4eme_ei\\artificial_inteligence\\intership_steve_delmas_2025\\venv\\lib\\site-packages (from gradio==3.50.2->-r requirements.txt (line 17)) (2.1.5)\n",
      "Requirement already satisfied: orjson~=3.0 in c:\\users\\delma\\onedrive\\bureau\\4eme_ei\\artificial_inteligence\\intership_steve_delmas_2025\\venv\\lib\\site-packages (from gradio==3.50.2->-r requirements.txt (line 17)) (3.10.18)\n",
      "Requirement already satisfied: pandas<3.0,>=1.0 in c:\\users\\delma\\onedrive\\bureau\\4eme_ei\\artificial_inteligence\\intership_steve_delmas_2025\\venv\\lib\\site-packages (from gradio==3.50.2->-r requirements.txt (line 17)) (2.2.3)\n",
      "Requirement already satisfied: pillow<11.0,>=8.0 in c:\\users\\delma\\onedrive\\bureau\\4eme_ei\\artificial_inteligence\\intership_steve_delmas_2025\\venv\\lib\\site-packages (from gradio==3.50.2->-r requirements.txt (line 17)) (10.4.0)\n",
      "Requirement already satisfied: pydantic!=1.8,!=1.8.1,!=2.0.0,!=2.0.1,<3.0.0,>=1.7.4 in c:\\users\\delma\\onedrive\\bureau\\4eme_ei\\artificial_inteligence\\intership_steve_delmas_2025\\venv\\lib\\site-packages (from gradio==3.50.2->-r requirements.txt (line 17)) (2.11.4)\n",
      "Requirement already satisfied: pydub in c:\\users\\delma\\onedrive\\bureau\\4eme_ei\\artificial_inteligence\\intership_steve_delmas_2025\\venv\\lib\\site-packages (from gradio==3.50.2->-r requirements.txt (line 17)) (0.25.1)\n",
      "Requirement already satisfied: python-multipart in c:\\users\\delma\\onedrive\\bureau\\4eme_ei\\artificial_inteligence\\intership_steve_delmas_2025\\venv\\lib\\site-packages (from gradio==3.50.2->-r requirements.txt (line 17)) (0.0.20)\n",
      "Requirement already satisfied: semantic-version~=2.0 in c:\\users\\delma\\onedrive\\bureau\\4eme_ei\\artificial_inteligence\\intership_steve_delmas_2025\\venv\\lib\\site-packages (from gradio==3.50.2->-r requirements.txt (line 17)) (2.10.0)\n",
      "Requirement already satisfied: typing-extensions~=4.0 in c:\\users\\delma\\onedrive\\bureau\\4eme_ei\\artificial_inteligence\\intership_steve_delmas_2025\\venv\\lib\\site-packages (from gradio==3.50.2->-r requirements.txt (line 17)) (4.13.2)\n",
      "Requirement already satisfied: uvicorn>=0.14.0 in c:\\users\\delma\\onedrive\\bureau\\4eme_ei\\artificial_inteligence\\intership_steve_delmas_2025\\venv\\lib\\site-packages (from gradio==3.50.2->-r requirements.txt (line 17)) (0.34.2)\n",
      "Requirement already satisfied: websockets<12.0,>=10.0 in c:\\users\\delma\\onedrive\\bureau\\4eme_ei\\artificial_inteligence\\intership_steve_delmas_2025\\venv\\lib\\site-packages (from gradio==3.50.2->-r requirements.txt (line 17)) (11.0.3)\n",
      "Requirement already satisfied: httpx-sse in c:\\users\\delma\\onedrive\\bureau\\4eme_ei\\artificial_inteligence\\intership_steve_delmas_2025\\venv\\lib\\site-packages (from fireworks-ai==0.14.0->-r requirements.txt (line 18)) (0.4.0)\n",
      "Requirement already satisfied: joblib>=1.2.0 in c:\\users\\delma\\onedrive\\bureau\\4eme_ei\\artificial_inteligence\\intership_steve_delmas_2025\\venv\\lib\\site-packages (from scikit-learn==1.4.0->-r requirements.txt (line 19)) (1.5.0)\n",
      "Requirement already satisfied: threadpoolctl>=2.0.0 in c:\\users\\delma\\onedrive\\bureau\\4eme_ei\\artificial_inteligence\\intership_steve_delmas_2025\\venv\\lib\\site-packages (from scikit-learn==1.4.0->-r requirements.txt (line 19)) (3.6.0)\n",
      "Requirement already satisfied: cffi>=1.12 in c:\\users\\delma\\onedrive\\bureau\\4eme_ei\\artificial_inteligence\\intership_steve_delmas_2025\\venv\\lib\\site-packages (from cryptography==42.0.7->-r requirements.txt (line 20)) (1.17.1)\n",
      "Requirement already satisfied: fsspec in c:\\users\\delma\\onedrive\\bureau\\4eme_ei\\artificial_inteligence\\intership_steve_delmas_2025\\venv\\lib\\site-packages (from gradio-client==0.6.1->gradio==3.50.2->-r requirements.txt (line 17)) (2024.3.1)\n",
      "Requirement already satisfied: narwhals>=1.14.2 in c:\\users\\delma\\onedrive\\bureau\\4eme_ei\\artificial_inteligence\\intership_steve_delmas_2025\\venv\\lib\\site-packages (from altair<6.0,>=4.2.0->gradio==3.50.2->-r requirements.txt (line 17)) (1.40.0)\n",
      "Requirement already satisfied: pycparser in c:\\users\\delma\\onedrive\\bureau\\4eme_ei\\artificial_inteligence\\intership_steve_delmas_2025\\venv\\lib\\site-packages (from cffi>=1.12->cryptography==42.0.7->-r requirements.txt (line 20)) (2.22)\n",
      "Requirement already satisfied: colorama in c:\\users\\delma\\onedrive\\bureau\\4eme_ei\\artificial_inteligence\\intership_steve_delmas_2025\\venv\\lib\\site-packages (from click>=7.0->ray==2.6.3->-r requirements.txt (line 8)) (0.4.6)\n",
      "Requirement already satisfied: pyarrow>=12.0.0 in c:\\users\\delma\\onedrive\\bureau\\4eme_ei\\artificial_inteligence\\intership_steve_delmas_2025\\venv\\lib\\site-packages (from datasets<2.20.0,>=2.14.6->flwr_datasets==0.2.0->-r requirements.txt (line 9)) (20.0.0)\n",
      "Requirement already satisfied: pyarrow-hotfix in c:\\users\\delma\\onedrive\\bureau\\4eme_ei\\artificial_inteligence\\intership_steve_delmas_2025\\venv\\lib\\site-packages (from datasets<2.20.0,>=2.14.6->flwr_datasets==0.2.0->-r requirements.txt (line 9)) (0.7)\n",
      "Requirement already satisfied: dill<0.3.9,>=0.3.0 in c:\\users\\delma\\onedrive\\bureau\\4eme_ei\\artificial_inteligence\\intership_steve_delmas_2025\\venv\\lib\\site-packages (from datasets<2.20.0,>=2.14.6->flwr_datasets==0.2.0->-r requirements.txt (line 9)) (0.3.8)\n",
      "Requirement already satisfied: xxhash in c:\\users\\delma\\onedrive\\bureau\\4eme_ei\\artificial_inteligence\\intership_steve_delmas_2025\\venv\\lib\\site-packages (from datasets<2.20.0,>=2.14.6->flwr_datasets==0.2.0->-r requirements.txt (line 9)) (3.5.0)\n",
      "Requirement already satisfied: multiprocess in c:\\users\\delma\\onedrive\\bureau\\4eme_ei\\artificial_inteligence\\intership_steve_delmas_2025\\venv\\lib\\site-packages (from datasets<2.20.0,>=2.14.6->flwr_datasets==0.2.0->-r requirements.txt (line 9)) (0.70.16)\n",
      "Requirement already satisfied: aiohttp in c:\\users\\delma\\onedrive\\bureau\\4eme_ei\\artificial_inteligence\\intership_steve_delmas_2025\\venv\\lib\\site-packages (from datasets<2.20.0,>=2.14.6->flwr_datasets==0.2.0->-r requirements.txt (line 9)) (3.11.18)\n",
      "Requirement already satisfied: decorator in c:\\users\\delma\\onedrive\\bureau\\4eme_ei\\artificial_inteligence\\intership_steve_delmas_2025\\venv\\lib\\site-packages (from ipython>=6.1.0->ipywidgets==8.1.2->-r requirements.txt (line 16)) (5.2.1)\n",
      "Requirement already satisfied: ipython-pygments-lexers in c:\\users\\delma\\onedrive\\bureau\\4eme_ei\\artificial_inteligence\\intership_steve_delmas_2025\\venv\\lib\\site-packages (from ipython>=6.1.0->ipywidgets==8.1.2->-r requirements.txt (line 16)) (1.1.1)\n",
      "Requirement already satisfied: jedi>=0.16 in c:\\users\\delma\\onedrive\\bureau\\4eme_ei\\artificial_inteligence\\intership_steve_delmas_2025\\venv\\lib\\site-packages (from ipython>=6.1.0->ipywidgets==8.1.2->-r requirements.txt (line 16)) (0.19.2)\n",
      "Requirement already satisfied: matplotlib-inline in c:\\users\\delma\\onedrive\\bureau\\4eme_ei\\artificial_inteligence\\intership_steve_delmas_2025\\venv\\lib\\site-packages (from ipython>=6.1.0->ipywidgets==8.1.2->-r requirements.txt (line 16)) (0.1.7)\n",
      "Requirement already satisfied: prompt_toolkit<3.1.0,>=3.0.41 in c:\\users\\delma\\onedrive\\bureau\\4eme_ei\\artificial_inteligence\\intership_steve_delmas_2025\\venv\\lib\\site-packages (from ipython>=6.1.0->ipywidgets==8.1.2->-r requirements.txt (line 16)) (3.0.51)\n",
      "Requirement already satisfied: pygments>=2.4.0 in c:\\users\\delma\\onedrive\\bureau\\4eme_ei\\artificial_inteligence\\intership_steve_delmas_2025\\venv\\lib\\site-packages (from ipython>=6.1.0->ipywidgets==8.1.2->-r requirements.txt (line 16)) (2.19.1)\n",
      "Requirement already satisfied: stack_data in c:\\users\\delma\\onedrive\\bureau\\4eme_ei\\artificial_inteligence\\intership_steve_delmas_2025\\venv\\lib\\site-packages (from ipython>=6.1.0->ipywidgets==8.1.2->-r requirements.txt (line 16)) (0.6.3)\n",
      "Requirement already satisfied: attrs>=22.2.0 in c:\\users\\delma\\onedrive\\bureau\\4eme_ei\\artificial_inteligence\\intership_steve_delmas_2025\\venv\\lib\\site-packages (from jsonschema->ray==2.6.3->-r requirements.txt (line 8)) (25.3.0)\n",
      "Requirement already satisfied: jsonschema-specifications>=2023.03.6 in c:\\users\\delma\\onedrive\\bureau\\4eme_ei\\artificial_inteligence\\intership_steve_delmas_2025\\venv\\lib\\site-packages (from jsonschema->ray==2.6.3->-r requirements.txt (line 8)) (2025.4.1)\n",
      "Requirement already satisfied: referencing>=0.28.4 in c:\\users\\delma\\onedrive\\bureau\\4eme_ei\\artificial_inteligence\\intership_steve_delmas_2025\\venv\\lib\\site-packages (from jsonschema->ray==2.6.3->-r requirements.txt (line 8)) (0.36.2)\n",
      "Requirement already satisfied: rpds-py>=0.7.1 in c:\\users\\delma\\onedrive\\bureau\\4eme_ei\\artificial_inteligence\\intership_steve_delmas_2025\\venv\\lib\\site-packages (from jsonschema->ray==2.6.3->-r requirements.txt (line 8)) (0.25.0)\n",
      "Requirement already satisfied: contourpy>=1.0.1 in c:\\users\\delma\\onedrive\\bureau\\4eme_ei\\artificial_inteligence\\intership_steve_delmas_2025\\venv\\lib\\site-packages (from matplotlib<4.0.0,>=3.7.5->flwr_datasets==0.2.0->-r requirements.txt (line 9)) (1.3.2)\n",
      "Requirement already satisfied: cycler>=0.10 in c:\\users\\delma\\onedrive\\bureau\\4eme_ei\\artificial_inteligence\\intership_steve_delmas_2025\\venv\\lib\\site-packages (from matplotlib<4.0.0,>=3.7.5->flwr_datasets==0.2.0->-r requirements.txt (line 9)) (0.12.1)\n",
      "Requirement already satisfied: fonttools>=4.22.0 in c:\\users\\delma\\onedrive\\bureau\\4eme_ei\\artificial_inteligence\\intership_steve_delmas_2025\\venv\\lib\\site-packages (from matplotlib<4.0.0,>=3.7.5->flwr_datasets==0.2.0->-r requirements.txt (line 9)) (4.58.0)\n",
      "Requirement already satisfied: kiwisolver>=1.3.1 in c:\\users\\delma\\onedrive\\bureau\\4eme_ei\\artificial_inteligence\\intership_steve_delmas_2025\\venv\\lib\\site-packages (from matplotlib<4.0.0,>=3.7.5->flwr_datasets==0.2.0->-r requirements.txt (line 9)) (1.4.8)\n",
      "Requirement already satisfied: pyparsing>=2.3.1 in c:\\users\\delma\\onedrive\\bureau\\4eme_ei\\artificial_inteligence\\intership_steve_delmas_2025\\venv\\lib\\site-packages (from matplotlib<4.0.0,>=3.7.5->flwr_datasets==0.2.0->-r requirements.txt (line 9)) (3.2.3)\n",
      "Requirement already satisfied: python-dateutil>=2.7 in c:\\users\\delma\\onedrive\\bureau\\4eme_ei\\artificial_inteligence\\intership_steve_delmas_2025\\venv\\lib\\site-packages (from matplotlib<4.0.0,>=3.7.5->flwr_datasets==0.2.0->-r requirements.txt (line 9)) (2.9.0.post0)\n",
      "Requirement already satisfied: pytz>=2020.1 in c:\\users\\delma\\onedrive\\bureau\\4eme_ei\\artificial_inteligence\\intership_steve_delmas_2025\\venv\\lib\\site-packages (from pandas<3.0,>=1.0->gradio==3.50.2->-r requirements.txt (line 17)) (2025.2)\n",
      "Requirement already satisfied: tzdata>=2022.7 in c:\\users\\delma\\onedrive\\bureau\\4eme_ei\\artificial_inteligence\\intership_steve_delmas_2025\\venv\\lib\\site-packages (from pandas<3.0,>=1.0->gradio==3.50.2->-r requirements.txt (line 17)) (2025.2)\n",
      "Requirement already satisfied: annotated-types>=0.6.0 in c:\\users\\delma\\onedrive\\bureau\\4eme_ei\\artificial_inteligence\\intership_steve_delmas_2025\\venv\\lib\\site-packages (from pydantic!=1.8,!=1.8.1,!=2.0.0,!=2.0.1,<3.0.0,>=1.7.4->gradio==3.50.2->-r requirements.txt (line 17)) (0.7.0)\n",
      "Requirement already satisfied: pydantic-core==2.33.2 in c:\\users\\delma\\onedrive\\bureau\\4eme_ei\\artificial_inteligence\\intership_steve_delmas_2025\\venv\\lib\\site-packages (from pydantic!=1.8,!=1.8.1,!=2.0.0,!=2.0.1,<3.0.0,>=1.7.4->gradio==3.50.2->-r requirements.txt (line 17)) (2.33.2)\n",
      "Requirement already satisfied: typing-inspection>=0.4.0 in c:\\users\\delma\\onedrive\\bureau\\4eme_ei\\artificial_inteligence\\intership_steve_delmas_2025\\venv\\lib\\site-packages (from pydantic!=1.8,!=1.8.1,!=2.0.0,!=2.0.1,<3.0.0,>=1.7.4->gradio==3.50.2->-r requirements.txt (line 17)) (0.4.0)\n",
      "Requirement already satisfied: charset-normalizer<4,>=2 in c:\\users\\delma\\onedrive\\bureau\\4eme_ei\\artificial_inteligence\\intership_steve_delmas_2025\\venv\\lib\\site-packages (from requests->ray==2.6.3->-r requirements.txt (line 8)) (3.4.2)\n",
      "Requirement already satisfied: idna<4,>=2.5 in c:\\users\\delma\\onedrive\\bureau\\4eme_ei\\artificial_inteligence\\intership_steve_delmas_2025\\venv\\lib\\site-packages (from requests->ray==2.6.3->-r requirements.txt (line 8)) (3.10)\n",
      "Requirement already satisfied: urllib3<3,>=1.21.1 in c:\\users\\delma\\onedrive\\bureau\\4eme_ei\\artificial_inteligence\\intership_steve_delmas_2025\\venv\\lib\\site-packages (from requests->ray==2.6.3->-r requirements.txt (line 8)) (2.4.0)\n",
      "Requirement already satisfied: certifi>=2017.4.17 in c:\\users\\delma\\onedrive\\bureau\\4eme_ei\\artificial_inteligence\\intership_steve_delmas_2025\\venv\\lib\\site-packages (from requests->ray==2.6.3->-r requirements.txt (line 8)) (2025.4.26)\n",
      "Requirement already satisfied: sympy in c:\\users\\delma\\onedrive\\bureau\\4eme_ei\\artificial_inteligence\\intership_steve_delmas_2025\\venv\\lib\\site-packages (from torch>=1.4.0->trl==0.8.1->-r requirements.txt (line 11)) (1.14.0)\n",
      "Requirement already satisfied: networkx in c:\\users\\delma\\onedrive\\bureau\\4eme_ei\\artificial_inteligence\\intership_steve_delmas_2025\\venv\\lib\\site-packages (from torch>=1.4.0->trl==0.8.1->-r requirements.txt (line 11)) (3.4.2)\n",
      "Requirement already satisfied: shellingham<2.0.0,>=1.3.0 in c:\\users\\delma\\onedrive\\bureau\\4eme_ei\\artificial_inteligence\\intership_steve_delmas_2025\\venv\\lib\\site-packages (from typer[all]<0.10.0,>=0.9.0->flwr==1.10.0->-r requirements.txt (line 7)) (1.5.4)\n",
      "Requirement already satisfied: rich<14.0.0,>=10.11.0 in c:\\users\\delma\\onedrive\\bureau\\4eme_ei\\artificial_inteligence\\intership_steve_delmas_2025\\venv\\lib\\site-packages (from typer[all]<0.10.0,>=0.9.0->flwr==1.10.0->-r requirements.txt (line 7)) (13.9.4)\n",
      "Requirement already satisfied: docstring-parser>=0.15 in c:\\users\\delma\\onedrive\\bureau\\4eme_ei\\artificial_inteligence\\intership_steve_delmas_2025\\venv\\lib\\site-packages (from tyro>=0.5.11->trl==0.8.1->-r requirements.txt (line 11)) (0.16)\n",
      "Requirement already satisfied: shtab>=1.5.6 in c:\\users\\delma\\onedrive\\bureau\\4eme_ei\\artificial_inteligence\\intership_steve_delmas_2025\\venv\\lib\\site-packages (from tyro>=0.5.11->trl==0.8.1->-r requirements.txt (line 11)) (1.7.2)\n",
      "Requirement already satisfied: typeguard>=4.0.0 in c:\\users\\delma\\onedrive\\bureau\\4eme_ei\\artificial_inteligence\\intership_steve_delmas_2025\\venv\\lib\\site-packages (from tyro>=0.5.11->trl==0.8.1->-r requirements.txt (line 11)) (4.4.2)\n",
      "Requirement already satisfied: h11>=0.8 in c:\\users\\delma\\onedrive\\bureau\\4eme_ei\\artificial_inteligence\\intership_steve_delmas_2025\\venv\\lib\\site-packages (from uvicorn>=0.14.0->gradio==3.50.2->-r requirements.txt (line 17)) (0.16.0)\n",
      "Requirement already satisfied: starlette<0.47.0,>=0.40.0 in c:\\users\\delma\\onedrive\\bureau\\4eme_ei\\artificial_inteligence\\intership_steve_delmas_2025\\venv\\lib\\site-packages (from fastapi->gradio==3.50.2->-r requirements.txt (line 17)) (0.46.2)\n",
      "Requirement already satisfied: anyio in c:\\users\\delma\\onedrive\\bureau\\4eme_ei\\artificial_inteligence\\intership_steve_delmas_2025\\venv\\lib\\site-packages (from httpx->gradio==3.50.2->-r requirements.txt (line 17)) (4.9.0)\n",
      "Requirement already satisfied: httpcore==1.* in c:\\users\\delma\\onedrive\\bureau\\4eme_ei\\artificial_inteligence\\intership_steve_delmas_2025\\venv\\lib\\site-packages (from httpx->gradio==3.50.2->-r requirements.txt (line 17)) (1.0.9)\n",
      "Requirement already satisfied: aiohappyeyeballs>=2.3.0 in c:\\users\\delma\\onedrive\\bureau\\4eme_ei\\artificial_inteligence\\intership_steve_delmas_2025\\venv\\lib\\site-packages (from aiohttp->datasets<2.20.0,>=2.14.6->flwr_datasets==0.2.0->-r requirements.txt (line 9)) (2.6.1)\n",
      "Requirement already satisfied: multidict<7.0,>=4.5 in c:\\users\\delma\\onedrive\\bureau\\4eme_ei\\artificial_inteligence\\intership_steve_delmas_2025\\venv\\lib\\site-packages (from aiohttp->datasets<2.20.0,>=2.14.6->flwr_datasets==0.2.0->-r requirements.txt (line 9)) (6.4.3)\n",
      "Requirement already satisfied: propcache>=0.2.0 in c:\\users\\delma\\onedrive\\bureau\\4eme_ei\\artificial_inteligence\\intership_steve_delmas_2025\\venv\\lib\\site-packages (from aiohttp->datasets<2.20.0,>=2.14.6->flwr_datasets==0.2.0->-r requirements.txt (line 9)) (0.3.1)\n",
      "Requirement already satisfied: yarl<2.0,>=1.17.0 in c:\\users\\delma\\onedrive\\bureau\\4eme_ei\\artificial_inteligence\\intership_steve_delmas_2025\\venv\\lib\\site-packages (from aiohttp->datasets<2.20.0,>=2.14.6->flwr_datasets==0.2.0->-r requirements.txt (line 9)) (1.20.0)\n",
      "Requirement already satisfied: parso<0.9.0,>=0.8.4 in c:\\users\\delma\\onedrive\\bureau\\4eme_ei\\artificial_inteligence\\intership_steve_delmas_2025\\venv\\lib\\site-packages (from jedi>=0.16->ipython>=6.1.0->ipywidgets==8.1.2->-r requirements.txt (line 16)) (0.8.4)\n",
      "Requirement already satisfied: wcwidth in c:\\users\\delma\\onedrive\\bureau\\4eme_ei\\artificial_inteligence\\intership_steve_delmas_2025\\venv\\lib\\site-packages (from prompt_toolkit<3.1.0,>=3.0.41->ipython>=6.1.0->ipywidgets==8.1.2->-r requirements.txt (line 16)) (0.2.13)\n",
      "Requirement already satisfied: six>=1.5 in c:\\users\\delma\\onedrive\\bureau\\4eme_ei\\artificial_inteligence\\intership_steve_delmas_2025\\venv\\lib\\site-packages (from python-dateutil>=2.7->matplotlib<4.0.0,>=3.7.5->flwr_datasets==0.2.0->-r requirements.txt (line 9)) (1.17.0)\n",
      "Requirement already satisfied: markdown-it-py>=2.2.0 in c:\\users\\delma\\onedrive\\bureau\\4eme_ei\\artificial_inteligence\\intership_steve_delmas_2025\\venv\\lib\\site-packages (from rich<14.0.0,>=10.11.0->typer[all]<0.10.0,>=0.9.0->flwr==1.10.0->-r requirements.txt (line 7)) (3.0.0)\n",
      "Requirement already satisfied: sniffio>=1.1 in c:\\users\\delma\\onedrive\\bureau\\4eme_ei\\artificial_inteligence\\intership_steve_delmas_2025\\venv\\lib\\site-packages (from anyio->httpx->gradio==3.50.2->-r requirements.txt (line 17)) (1.3.1)\n",
      "Requirement already satisfied: executing>=1.2.0 in c:\\users\\delma\\onedrive\\bureau\\4eme_ei\\artificial_inteligence\\intership_steve_delmas_2025\\venv\\lib\\site-packages (from stack_data->ipython>=6.1.0->ipywidgets==8.1.2->-r requirements.txt (line 16)) (2.2.0)\n",
      "Requirement already satisfied: asttokens>=2.1.0 in c:\\users\\delma\\onedrive\\bureau\\4eme_ei\\artificial_inteligence\\intership_steve_delmas_2025\\venv\\lib\\site-packages (from stack_data->ipython>=6.1.0->ipywidgets==8.1.2->-r requirements.txt (line 16)) (3.0.0)\n",
      "Requirement already satisfied: pure-eval in c:\\users\\delma\\onedrive\\bureau\\4eme_ei\\artificial_inteligence\\intership_steve_delmas_2025\\venv\\lib\\site-packages (from stack_data->ipython>=6.1.0->ipywidgets==8.1.2->-r requirements.txt (line 16)) (0.2.3)\n",
      "Requirement already satisfied: mpmath<1.4,>=1.1.0 in c:\\users\\delma\\onedrive\\bureau\\4eme_ei\\artificial_inteligence\\intership_steve_delmas_2025\\venv\\lib\\site-packages (from sympy->torch>=1.4.0->trl==0.8.1->-r requirements.txt (line 11)) (1.3.0)\n",
      "Requirement already satisfied: mdurl~=0.1 in c:\\users\\delma\\onedrive\\bureau\\4eme_ei\\artificial_inteligence\\intership_steve_delmas_2025\\venv\\lib\\site-packages (from markdown-it-py>=2.2.0->rich<14.0.0,>=10.11.0->typer[all]<0.10.0,>=0.9.0->flwr==1.10.0->-r requirements.txt (line 7)) (0.1.2)\n",
      "Note: you may need to restart the kernel to use updated packages.\n"
     ]
    },
    {
     "name": "stderr",
     "output_type": "stream",
     "text": [
      "\n",
      "[notice] A new release of pip is available: 24.0 -> 25.1.1\n",
      "[notice] To update, run: python.exe -m pip install --upgrade pip\n"
     ]
    }
   ],
   "source": [
    "%pip install -r requirements.txt"
   ]
  },
  {
   "cell_type": "markdown",
   "id": "5c16707d",
   "metadata": {},
   "source": [
    "Welcome to Lesson 2!\n",
    "\n",
    "To access the `requirements.txt` and `utils` files for this course, go to `File` and click `Open`."
   ]
  },
  {
   "cell_type": "markdown",
   "id": "af1d0e65",
   "metadata": {},
   "source": [
    "#### 1. Import packages and utilities"
   ]
  },
  {
   "cell_type": "code",
   "execution_count": 12,
   "id": "000642f7",
   "metadata": {
    "height": 198
   },
   "outputs": [],
   "source": [
    "import warnings\n",
    "warnings.filterwarnings(\"ignore\", category=UserWarning)\n",
    "warnings.filterwarnings(\"ignore\", category=FutureWarning)\n",
    "import torch\n",
    "from datasets import load_dataset\n",
    "from trl import SFTTrainer\n",
    "from transformers import TrainingArguments\n",
    "from utils.utils import *\n",
    "from utils.LLM import LLM_pretrained, LLM_cen_partial\n",
    "from utils.LLM import get_fireworks_api_key,load_env"
   ]
  },
  {
   "cell_type": "markdown",
   "id": "0e69d454",
   "metadata": {},
   "source": [
    "> Note: Throughout this course, we use Hydra, a framework for managing and configuring files. "
   ]
  },
  {
   "cell_type": "code",
   "execution_count": 13,
   "id": "b6db1fbe",
   "metadata": {
    "height": 97
   },
   "outputs": [
    {
     "name": "stdout",
     "output_type": "stream",
     "text": [
      "dataset:\n",
      "  name: medalpaca/medical_meadow_medical_flashcards\n",
      "model:\n",
      "  name: EleutherAI/pythia-70m\n",
      "  quantization: 4\n",
      "  gradient_checkpointing: true\n",
      "  use_fast_tokenizer: true\n",
      "  lora:\n",
      "    peft_lora_r: 16\n",
      "    peft_lora_alpha: 64\n",
      "    target_modules: null\n",
      "train:\n",
      "  save_every_round: 5\n",
      "  seq_length: 512\n",
      "  padding_side: left\n",
      "  training_arguments:\n",
      "    learning_rate: 0.0005\n",
      "    per_device_train_batch_size: 2\n",
      "    gradient_accumulation_steps: 1\n",
      "    logging_steps: 1\n",
      "    max_steps: 5\n",
      "    report_to: null\n",
      "    save_steps: 200\n",
      "    save_total_limit: 10\n",
      "    gradient_checkpointing: true\n",
      "    lr_scheduler_type: cosine\n",
      "\n"
     ]
    }
   ],
   "source": [
    "# Load config\n",
    "cfg = get_config(\"centralized\")\n",
    "\n",
    "# Inspect the config\n",
    "print_config(cfg)"
   ]
  },
  {
   "cell_type": "markdown",
   "id": "a917f369",
   "metadata": {},
   "source": [
    "#### 2. Load the dataset\n",
    "  \n",
    "**Note:** For more information about the dataset, check here [medAlpaca](https://arxiv.org/abs/2304.08247)."
   ]
  },
  {
   "cell_type": "code",
   "execution_count": 14,
   "id": "2f9fd8a3",
   "metadata": {
    "height": 147
   },
   "outputs": [
    {
     "name": "stdout",
     "output_type": "stream",
     "text": [
      "Dataset({\n",
      "    features: ['instruction', 'response'],\n",
      "    num_rows: 3395\n",
      "})\n"
     ]
    }
   ],
   "source": [
    "trainset_full = load_dataset(cfg.dataset.name, split='train')\n",
    "train_test = trainset_full.train_test_split(test_size=0.9, seed=1234)\n",
    "train_dataset = train_test[\"train\"]\n",
    "\n",
    "train_dataset = format_dataset(train_dataset)\n",
    "\n",
    "print(train_dataset)"
   ]
  },
  {
   "cell_type": "code",
   "execution_count": 15,
   "id": "7679e745",
   "metadata": {
    "height": 114
   },
   "outputs": [
    {
     "data": {
      "text/plain": [
       "{'instruction': 'At what level does the inferior vena cava (IVC) perforate the diaphragm?',\n",
       " 'response': 'The IVC perforates the diaphragm at the level of T8.'}"
      ]
     },
     "execution_count": 15,
     "metadata": {},
     "output_type": "execute_result"
    }
   ],
   "source": [
    "# Print an example from the dataset\n",
    "example_index = 9\n",
    "\n",
    "data_point = train_dataset[example_index]\n",
    "\n",
    "data_point"
   ]
  },
  {
   "cell_type": "markdown",
   "id": "2315d3c4",
   "metadata": {},
   "source": [
    "#### 3. Asking the LLM \n",
    "\n",
    "\n",
    "* First attempt \n",
    "\n",
    "Ask a pre-trained LLM a question in a specific domain."
   ]
  },
  {
   "cell_type": "code",
   "execution_count": 16,
   "id": "c20902da",
   "metadata": {
    "height": 29
   },
   "outputs": [],
   "source": [
    "llm_pretrained = LLM_pretrained()"
   ]
  },
  {
   "cell_type": "markdown",
   "id": "2e6d9be1",
   "metadata": {},
   "source": [
    "* Write a prompt to ask the LLM."
   ]
  },
  {
   "cell_type": "code",
   "execution_count": 18,
   "id": "ccea0c85",
   "metadata": {},
   "outputs": [],
   "source": [
    "import fireworks\n",
    "fireworks.client.api_key = \"ta_clé_API\"\n"
   ]
  },
  {
   "cell_type": "code",
   "execution_count": 17,
   "id": "cf56f92d",
   "metadata": {
    "height": 79
   },
   "outputs": [
    {
     "ename": "ValueError",
     "evalue": "No API key provided. You can set your API key in code using 'fireworks.client.api_key = <API-KEY>', or you can set the environment variable FIREWORKS_API_KEY=<API-KEY>).",
     "output_type": "error",
     "traceback": [
      "\u001b[31m---------------------------------------------------------------------------\u001b[39m",
      "\u001b[31mValueError\u001b[39m                                Traceback (most recent call last)",
      "\u001b[36mCell\u001b[39m\u001b[36m \u001b[39m\u001b[32mIn[17]\u001b[39m\u001b[32m, line 2\u001b[39m\n\u001b[32m      1\u001b[39m prompt = \u001b[33m\"\u001b[39m\u001b[33mHow to predict the weather\u001b[39m\u001b[33m\"\u001b[39m\n\u001b[32m----> \u001b[39m\u001b[32m2\u001b[39m \u001b[43mllm_pretrained\u001b[49m\u001b[43m.\u001b[49m\u001b[43meval\u001b[49m\u001b[43m(\u001b[49m\u001b[43mprompt\u001b[49m\u001b[43m,\u001b[49m\u001b[43m \u001b[49m\u001b[43mverbose\u001b[49m\u001b[43m \u001b[49m\u001b[43m=\u001b[49m\u001b[43m \u001b[49m\u001b[38;5;28;43;01mFalse\u001b[39;49;00m\u001b[43m)\u001b[49m\n\u001b[32m      3\u001b[39m llm_pretrained.print_response(verbose = \u001b[38;5;28;01mFalse\u001b[39;00m)\n",
      "\u001b[36mFile \u001b[39m\u001b[32mc:\\Users\\delma\\OneDrive\\Bureau\\4eme_EI\\Artificial_Inteligence\\Intership_Steve_DELMAS_2025\\Federated_Fine_tuning_of_LLMs_with_Private_Data\\2_Centralized_LLM_Fine-tuning\\utils\\LLM.py:34\u001b[39m, in \u001b[36mLLM_eval.eval\u001b[39m\u001b[34m(self, prompt, log_probs, verbose, top_k)\u001b[39m\n\u001b[32m     32\u001b[39m     to_print = textwrap.fill(prompt, \u001b[32m50\u001b[39m, subsequent_indent=\u001b[33m\"\u001b[39m\u001b[38;5;130;01m\\t\u001b[39;00m\u001b[33m\"\u001b[39m)\n\u001b[32m     33\u001b[39m     \u001b[38;5;28mprint\u001b[39m(\u001b[33mf\u001b[39m\u001b[33m'\u001b[39m\u001b[33mPrompt:\u001b[39m\u001b[38;5;130;01m\\n\u001b[39;00m\u001b[38;5;130;01m\\t\u001b[39;00m\u001b[38;5;132;01m{\u001b[39;00mto_print\u001b[38;5;132;01m}\u001b[39;00m\u001b[33m'\u001b[39m)\n\u001b[32m---> \u001b[39m\u001b[32m34\u001b[39m \u001b[38;5;28mself\u001b[39m.response = \u001b[43mfireworks\u001b[49m\u001b[43m.\u001b[49m\u001b[43mclient\u001b[49m\u001b[43m.\u001b[49m\u001b[43mCompletion\u001b[49m\u001b[43m.\u001b[49m\u001b[43mcreate\u001b[49m\u001b[43m(\u001b[49m\n\u001b[32m     35\u001b[39m \u001b[43m    \u001b[49m\u001b[43mmodel\u001b[49m\u001b[43m=\u001b[49m\u001b[38;5;28;43mself\u001b[39;49m\u001b[43m.\u001b[49m\u001b[43mmodel\u001b[49m\u001b[43m,\u001b[49m\n\u001b[32m     36\u001b[39m \u001b[43m    \u001b[49m\u001b[43mprompt\u001b[49m\u001b[43m=\u001b[49m\u001b[43mprompt\u001b[49m\u001b[43m,\u001b[49m\n\u001b[32m     37\u001b[39m \u001b[43m    \u001b[49m\u001b[43mecho\u001b[49m\u001b[43m \u001b[49m\u001b[43m=\u001b[49m\u001b[43m \u001b[49m\u001b[43mlog_probs\u001b[49m\u001b[43m,\u001b[49m\n\u001b[32m     38\u001b[39m \u001b[43m    \u001b[49m\u001b[43mmax_tokens\u001b[49m\u001b[43m=\u001b[49m\u001b[32;43m0\u001b[39;49m\u001b[43m \u001b[49m\u001b[38;5;28;43;01mif\u001b[39;49;00m\u001b[43m \u001b[49m\u001b[43mlog_probs\u001b[49m\u001b[43m \u001b[49m\u001b[38;5;28;43;01melse\u001b[39;49;00m\u001b[43m \u001b[49m\u001b[32;43m80\u001b[39;49m\u001b[43m,\u001b[49m\n\u001b[32m     39\u001b[39m \u001b[43m    \u001b[49m\u001b[43mtemperature\u001b[49m\u001b[43m=\u001b[49m\u001b[38;5;28;43mself\u001b[39;49m\u001b[43m.\u001b[49m\u001b[43mtemp\u001b[49m\u001b[43m,\u001b[49m\n\u001b[32m     40\u001b[39m \u001b[43m    \u001b[49m\u001b[43mlogprobs\u001b[49m\u001b[43m=\u001b[49m\u001b[43m \u001b[49m\u001b[32;43m0\u001b[39;49m\u001b[43m,\u001b[49m\n\u001b[32m     41\u001b[39m \u001b[43m    \u001b[49m\u001b[43mtop_k\u001b[49m\u001b[43m \u001b[49m\u001b[43m=\u001b[49m\u001b[43m \u001b[49m\u001b[32;43m5\u001b[39;49m\u001b[43m \u001b[49m\u001b[38;5;28;43;01mif\u001b[39;49;00m\u001b[43m \u001b[49m\u001b[43mtop_k\u001b[49m\u001b[43m \u001b[49m\u001b[38;5;28;43;01melse\u001b[39;49;00m\u001b[43m \u001b[49m\u001b[38;5;28;43;01mNone\u001b[39;49;00m\n\u001b[32m     42\u001b[39m \u001b[43m\u001b[49m\u001b[43m)\u001b[49m\n",
      "\u001b[36mFile \u001b[39m\u001b[32mc:\\Users\\delma\\OneDrive\\Bureau\\4eme_EI\\Artificial_Inteligence\\Intership_Steve_DELMAS_2025\\venv\\Lib\\site-packages\\fireworks\\client\\base_completion.py:76\u001b[39m, in \u001b[36mBaseCompletion.create\u001b[39m\u001b[34m(cls, model, prompt_or_messages, request_timeout, stream, client, **kwargs)\u001b[39m\n\u001b[32m     72\u001b[39m     \u001b[38;5;28;01mreturn\u001b[39;00m \u001b[38;5;28mcls\u001b[39m._create_streaming(\n\u001b[32m     73\u001b[39m         model, request_timeout, client=client, **kwargs\n\u001b[32m     74\u001b[39m     )\n\u001b[32m     75\u001b[39m \u001b[38;5;28;01melse\u001b[39;00m:\n\u001b[32m---> \u001b[39m\u001b[32m76\u001b[39m     \u001b[38;5;28;01mreturn\u001b[39;00m \u001b[38;5;28;43mcls\u001b[39;49m\u001b[43m.\u001b[49m\u001b[43m_create_non_streaming\u001b[49m\u001b[43m(\u001b[49m\n\u001b[32m     77\u001b[39m \u001b[43m        \u001b[49m\u001b[43mmodel\u001b[49m\u001b[43m,\u001b[49m\u001b[43m \u001b[49m\u001b[43mrequest_timeout\u001b[49m\u001b[43m,\u001b[49m\u001b[43m \u001b[49m\u001b[43mclient\u001b[49m\u001b[43m=\u001b[49m\u001b[43mclient\u001b[49m\u001b[43m,\u001b[49m\u001b[43m \u001b[49m\u001b[43m*\u001b[49m\u001b[43m*\u001b[49m\u001b[43mkwargs\u001b[49m\n\u001b[32m     78\u001b[39m \u001b[43m    \u001b[49m\u001b[43m)\u001b[49m\n",
      "\u001b[36mFile \u001b[39m\u001b[32mc:\\Users\\delma\\OneDrive\\Bureau\\4eme_EI\\Artificial_Inteligence\\Intership_Steve_DELMAS_2025\\venv\\Lib\\site-packages\\fireworks\\client\\base_completion.py:156\u001b[39m, in \u001b[36mBaseCompletion._create_non_streaming\u001b[39m\u001b[34m(cls, model, request_timeout, client, **kwargs)\u001b[39m\n\u001b[32m    148\u001b[39m \u001b[38;5;129m@classmethod\u001b[39m\n\u001b[32m    149\u001b[39m \u001b[38;5;28;01mdef\u001b[39;00m\u001b[38;5;250m \u001b[39m\u001b[34m_create_non_streaming\u001b[39m(\n\u001b[32m    150\u001b[39m     \u001b[38;5;28mcls\u001b[39m,\n\u001b[32m   (...)\u001b[39m\u001b[32m    154\u001b[39m     **kwargs,\n\u001b[32m    155\u001b[39m ):\n\u001b[32m--> \u001b[39m\u001b[32m156\u001b[39m     client = client \u001b[38;5;129;01mor\u001b[39;00m \u001b[43mFireworksClient\u001b[49m\u001b[43m(\u001b[49m\u001b[43mrequest_timeout\u001b[49m\u001b[43m=\u001b[49m\u001b[43mrequest_timeout\u001b[49m\u001b[43m)\u001b[49m\n\u001b[32m    157\u001b[39m     data = {\u001b[33m\"\u001b[39m\u001b[33mmodel\u001b[39m\u001b[33m\"\u001b[39m: model, \u001b[33m\"\u001b[39m\u001b[33mstream\u001b[39m\u001b[33m\"\u001b[39m: \u001b[38;5;28;01mFalse\u001b[39;00m, **kwargs}\n\u001b[32m    158\u001b[39m     response = client.post_request_non_streaming(\n\u001b[32m    159\u001b[39m         \u001b[33mf\u001b[39m\u001b[33m\"\u001b[39m\u001b[38;5;132;01m{\u001b[39;00mclient.base_url\u001b[38;5;132;01m}\u001b[39;00m\u001b[33m/\u001b[39m\u001b[38;5;132;01m{\u001b[39;00m\u001b[38;5;28mcls\u001b[39m.endpoint\u001b[38;5;132;01m}\u001b[39;00m\u001b[33m\"\u001b[39m, data=data\n\u001b[32m    160\u001b[39m     )\n",
      "\u001b[36mFile \u001b[39m\u001b[32mc:\\Users\\delma\\OneDrive\\Bureau\\4eme_EI\\Artificial_Inteligence\\Intership_Steve_DELMAS_2025\\venv\\Lib\\site-packages\\fireworks\\client\\api_client.py:55\u001b[39m, in \u001b[36mFireworksClient.__init__\u001b[39m\u001b[34m(self, request_timeout, api_key, base_url, **kwargs)\u001b[39m\n\u001b[32m     53\u001b[39m \u001b[38;5;28;01mif\u001b[39;00m \u001b[33m\"\u001b[39m\u001b[33mrequest_timeout\u001b[39m\u001b[33m\"\u001b[39m \u001b[38;5;129;01min\u001b[39;00m kwargs:\n\u001b[32m     54\u001b[39m     request_timeout = kwargs[\u001b[33m\"\u001b[39m\u001b[33mrequest_timeout\u001b[39m\u001b[33m\"\u001b[39m]\n\u001b[32m---> \u001b[39m\u001b[32m55\u001b[39m \u001b[38;5;28mself\u001b[39m.api_key = api_key \u001b[38;5;129;01mor\u001b[39;00m \u001b[43mdefault_api_key\u001b[49m\u001b[43m(\u001b[49m\u001b[43m)\u001b[49m\n\u001b[32m     56\u001b[39m \u001b[38;5;28;01mif\u001b[39;00m \u001b[38;5;129;01mnot\u001b[39;00m \u001b[38;5;28mself\u001b[39m.api_key:\n\u001b[32m     57\u001b[39m     \u001b[38;5;28;01mraise\u001b[39;00m AuthenticationError(\n\u001b[32m     58\u001b[39m         \u001b[33m\"\u001b[39m\u001b[33mNo API key provided. You can set your API key in code using \u001b[39m\u001b[33m'\u001b[39m\u001b[33mfireworks.client.api_key = <API-KEY>\u001b[39m\u001b[33m'\u001b[39m\u001b[33m, or you can set the environment variable FIREWORKS_API_KEY=<API-KEY>).\u001b[39m\u001b[33m\"\u001b[39m\n\u001b[32m     59\u001b[39m     )\n",
      "\u001b[36mFile \u001b[39m\u001b[32mc:\\Users\\delma\\OneDrive\\Bureau\\4eme_EI\\Artificial_Inteligence\\Intership_Steve_DELMAS_2025\\venv\\Lib\\site-packages\\fireworks\\client\\api_client.py:22\u001b[39m, in \u001b[36mdefault_api_key\u001b[39m\u001b[34m()\u001b[39m\n\u001b[32m     20\u001b[39m     \u001b[38;5;28;01mreturn\u001b[39;00m fireworks.client.api_key\n\u001b[32m     21\u001b[39m \u001b[38;5;28;01melse\u001b[39;00m:\n\u001b[32m---> \u001b[39m\u001b[32m22\u001b[39m     \u001b[38;5;28;01mraise\u001b[39;00m \u001b[38;5;167;01mValueError\u001b[39;00m(\n\u001b[32m     23\u001b[39m         \u001b[33m\"\u001b[39m\u001b[33mNo API key provided. You can set your API key in code using \u001b[39m\u001b[33m'\u001b[39m\u001b[33mfireworks.client.api_key = <API-KEY>\u001b[39m\u001b[33m'\u001b[39m\u001b[33m, or you can set the environment variable FIREWORKS_API_KEY=<API-KEY>).\u001b[39m\u001b[33m\"\u001b[39m\n\u001b[32m     24\u001b[39m     )\n",
      "\u001b[31mValueError\u001b[39m: No API key provided. You can set your API key in code using 'fireworks.client.api_key = <API-KEY>', or you can set the environment variable FIREWORKS_API_KEY=<API-KEY>)."
     ]
    }
   ],
   "source": [
    "prompt = \"How to predict the weather\"\n",
    "llm_pretrained.eval(prompt, verbose = False)\n",
    "llm_pretrained.print_response(verbose = False)"
   ]
  },
  {
   "cell_type": "markdown",
   "id": "38b13c69",
   "metadata": {},
   "source": [
    "* Evaluate pre-trained model on Medical Q&A"
   ]
  },
  {
   "cell_type": "code",
   "execution_count": null,
   "id": "b44d1846",
   "metadata": {
    "height": 130
   },
   "outputs": [],
   "source": [
    "llm_pretrained.eval(data_point['instruction'], verbose=True)\n",
    "\n",
    "llm_pretrained.print_response()\n",
    "\n",
    "ex_response = format_string(data_point['response'])\n",
    "print(f\"Expected output:\\n\\t{ex_response}\")"
   ]
  },
  {
   "cell_type": "markdown",
   "id": "e7d2f9f1",
   "metadata": {},
   "source": [
    "* Second attempt:\n",
    "\n",
    "Ask a fine tuned LLM a question in a specific domain."
   ]
  },
  {
   "cell_type": "markdown",
   "id": "7ceeeb1e",
   "metadata": {},
   "source": [
    "* Set the model."
   ]
  },
  {
   "cell_type": "code",
   "execution_count": null,
   "id": "265fcae9",
   "metadata": {
    "height": 147
   },
   "outputs": [],
   "source": [
    "model = get_model(cfg.model)\n",
    "\n",
    "\n",
    "trainable, all_parameters = model.get_nb_trainable_parameters()\n",
    "print(f\"Trainable parameters: {trainable}\")\n",
    "print(f\"All parameters: {all_parameters}\")\n",
    "print(f\"Trainable (%): {100*trainable / all_parameters:.3f}\")"
   ]
  },
  {
   "cell_type": "markdown",
   "id": "06e06af5",
   "metadata": {},
   "source": [
    "* Define the tokenizer."
   ]
  },
  {
   "cell_type": "code",
   "execution_count": null,
   "id": "3c22c284",
   "metadata": {
    "height": 147
   },
   "outputs": [],
   "source": [
    "(\n",
    "tokenizer, \n",
    "data_collator, \n",
    "format_prompts_fn\n",
    ") = get_tokenizer_and_data_collator_and_propt_formatting(\n",
    "        cfg.model.name, cfg.model.use_fast_tokenizer, cfg.train.padding_side\n",
    ")"
   ]
  },
  {
   "cell_type": "markdown",
   "id": "78c5c437",
   "metadata": {},
   "source": [
    "* Define the finetune_centralised function."
   ]
  },
  {
   "cell_type": "code",
   "execution_count": null,
   "id": "14ab4a64",
   "metadata": {
    "height": 538
   },
   "outputs": [],
   "source": [
    "save_centralized = \"./my_centralized_model\"\n",
    "def finetune_centralised():\n",
    "\n",
    "    # The notebooks you are running in this course does not\n",
    "    # come with a GPU. However, we don't harcode \"cpu\" as the\n",
    "    # device to use in case you wish to download this notebook\n",
    "    # and run it on your own GPU.\n",
    "    use_cuda = torch.cuda.is_available()\n",
    "    training_arguments = TrainingArguments(\n",
    "                         **cfg.train.training_arguments,\n",
    "                         use_cpu=not(use_cuda),\n",
    "                         output_dir=save_centralized,\n",
    "    )\n",
    "\n",
    "    # Construct trainer\n",
    "    trainer = SFTTrainer(\n",
    "        tokenizer=tokenizer,\n",
    "        data_collator=data_collator,\n",
    "        formatting_func=format_prompts_fn,\n",
    "        max_seq_length=cfg.train.seq_length,\n",
    "        model=model,\n",
    "        args=training_arguments,\n",
    "        train_dataset=train_dataset,\n",
    "    )\n",
    "\n",
    "    # Do local training\n",
    "    trainer.train()\n",
    "\n",
    "    # Save the checkpoint\n",
    "    model.save_pretrained(save_centralized)"
   ]
  },
  {
   "cell_type": "markdown",
   "id": "218de263",
   "metadata": {},
   "source": [
    "* Let's do some fine-tuning."
   ]
  },
  {
   "cell_type": "code",
   "execution_count": null,
   "id": "dd8a0f40",
   "metadata": {
    "height": 29
   },
   "outputs": [],
   "source": [
    "finetune_centralised()"
   ]
  },
  {
   "cell_type": "markdown",
   "id": "b3ca3dec",
   "metadata": {},
   "source": [
    "> Note: The previous fine-tuning was performed on a smaller model. To fine-tune a larger model (e.g., a 7 billion parameter model), you can use the same code with a different configuration. Refer to the code snippet below:\n",
    "\n",
    "\n",
    "```\n",
    " cfg = get_config(\"centralized_full\")\n",
    "```\n",
    "\n",
    "It is recommended to execute all prior cells with this configuration. However, please ensure that your machine has at least one GPU."
   ]
  },
  {
   "cell_type": "markdown",
   "id": "ef22e176",
   "metadata": {},
   "source": [
    "* Evaluate the Centrally fine-tuned LLM."
   ]
  },
  {
   "cell_type": "code",
   "execution_count": null,
   "id": "6582cc5b",
   "metadata": {
    "height": 215
   },
   "outputs": [],
   "source": [
    "llm_cen = LLM_cen_partial()\n",
    "example_index = 9\n",
    "\n",
    "data_point = train_dataset[example_index]\n",
    "\n",
    "llm_cen.eval(data_point['instruction'], verbose=True)\n",
    "\n",
    "llm_cen.print_response()\n",
    "\n",
    "ex_response = format_string(data_point['response'])\n",
    "print(f\"Expected output:\\n\\t{ex_response}\")"
   ]
  },
  {
   "cell_type": "markdown",
   "id": "0e32f9bf",
   "metadata": {},
   "source": [
    "#### 4. Visualize results of prompting with pretrained LLM and fine-tuned LLM"
   ]
  },
  {
   "cell_type": "code",
   "execution_count": null,
   "id": "ec0ae775",
   "metadata": {
    "height": 45
   },
   "outputs": [],
   "source": [
    "visualize_results(results=['7b/pretrained', '7b/cen_10'])"
   ]
  },
  {
   "cell_type": "markdown",
   "id": "b2568a9f",
   "metadata": {},
   "source": [
    "#### Extra! \n",
    "\n",
    "#### Generate the data structure for systematic evaluation\n",
    "\n",
    "We used this code to evaluate the performance of the finetuned 7B LLM you tested in the previous code cell."
   ]
  },
  {
   "cell_type": "code",
   "execution_count": null,
   "id": "8128e02b",
   "metadata": {
    "height": 334
   },
   "outputs": [],
   "source": [
    "# Lauch evalution code\n",
    "# from utils.utils import inference, evaluate\n",
    "\n",
    "# Step 1: generate answers\n",
    "# To run inference on the pre-trained model:\n",
    "# inference(base_model_name_path=cfg.model.name, run_name=\"pretrained\")\n",
    "\n",
    "# To run inference on the centralised finetuned model:\n",
    "# inference(\n",
    "#           base_model_name_path=cfg.model.name, \n",
    "#           peft_path=path/to/your/checkpoint/directory, \n",
    "#           run_name=\"centralised_finetuned\",\n",
    "# )\n",
    "\n",
    "\n",
    "# Step 2: evaluation --- accuracy value will be printed\n",
    "# evaluate(run_name=\"pretrained\")\n",
    "# evaluate(run_name=\"centralised_finetuned\")"
   ]
  }
 ],
 "metadata": {
  "kernelspec": {
   "display_name": "venv",
   "language": "python",
   "name": "python3"
  },
  "language_info": {
   "codemirror_mode": {
    "name": "ipython",
    "version": 3
   },
   "file_extension": ".py",
   "mimetype": "text/x-python",
   "name": "python",
   "nbconvert_exporter": "python",
   "pygments_lexer": "ipython3",
   "version": "3.11.9"
  }
 },
 "nbformat": 4,
 "nbformat_minor": 5
}
