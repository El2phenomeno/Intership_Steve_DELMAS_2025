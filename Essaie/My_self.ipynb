{
 "cells": [
  {
   "cell_type": "code",
   "execution_count": 1,
   "id": "f56de943",
   "metadata": {},
   "outputs": [],
   "source": [
    "import torchvision\n",
    "import random\n",
    "from flwr.client import Client, ClientApp, NumPyClient\n",
    "from flwr.common import ndarrays_to_parameters, Context\n",
    "from flwr.server import ServerApp, ServerConfig\n",
    "from flwr.server import ServerAppComponents\n",
    "from flwr.server.strategy import FedAvg\n",
    "from flwr.simulation import run_simulation\n",
    "\n",
    "from utils2 import *"
   ]
  },
  {
   "cell_type": "code",
   "execution_count": 2,
   "id": "4f49c250",
   "metadata": {},
   "outputs": [
    {
     "data": {
      "text/plain": [
       "[<torch.utils.data.dataset.Subset at 0x28d6a194110>,\n",
       " <torch.utils.data.dataset.Subset at 0x28d0225c290>,\n",
       " <torch.utils.data.dataset.Subset at 0x28d7ee8bb10>,\n",
       " <torch.utils.data.dataset.Subset at 0x28d044f69d0>,\n",
       " <torch.utils.data.dataset.Subset at 0x28d04622c10>]"
      ]
     },
     "execution_count": 2,
     "metadata": {},
     "output_type": "execute_result"
    }
   ],
   "source": [
    "trainset = datasets.MNIST(\n",
    "    \"./MNIST_data/\", download=True, train=True, transform=transform\n",
    ")\n",
    "\n",
    "NUM_CLIENTS = 5\n",
    "DIGITS = list(range(5))\n",
    "\n",
    "split_size = len(trainset) // NUM_CLIENTS\n",
    "torch.manual_seed(42)\n",
    "train_sets = random_split(trainset, [split_size] * NUM_CLIENTS)\n",
    "train_sets\n"
   ]
  },
  {
   "cell_type": "code",
   "execution_count": 3,
   "id": "b6ccda02",
   "metadata": {},
   "outputs": [
    {
     "name": "stdout",
     "output_type": "stream",
     "text": [
      "Client 0 excludes the numbers : (0, 2, 3)\n",
      "Client 1 excludes the numbers : (0, 2, 4)\n",
      "Client 2 excludes the numbers : (0, 1, 4)\n",
      "Client 3 excludes the numbers : (1, 2, 4)\n",
      "Client 4 excludes the numbers : (0, 1, 3)\n",
      "Client 0 : 8378 exemple after exclusion\n",
      "Client 1 : 8455 exemple after exclusion\n",
      "Client 2 : 8263 exemple after exclusion\n",
      "Client 3 : 8325 exemple after exclusion\n",
      "Client 4 : 8208 exemple after exclusion\n"
     ]
    },
    {
     "data": {
      "text/plain": [
       "[<torch.utils.data.dataset.Subset at 0x28d04824e50>,\n",
       " <torch.utils.data.dataset.Subset at 0x28d04827ad0>,\n",
       " <torch.utils.data.dataset.Subset at 0x28d04827c90>,\n",
       " <torch.utils.data.dataset.Subset at 0x28d04611210>,\n",
       " <torch.utils.data.dataset.Subset at 0x28d0274b790>]"
      ]
     },
     "execution_count": 3,
     "metadata": {},
     "output_type": "execute_result"
    }
   ],
   "source": [
    "# Unique exclusions by client\n",
    "excluded_digits_per_client = []\n",
    "while len(excluded_digits_per_client) < NUM_CLIENTS:\n",
    "    exclude = tuple(sorted(random.sample(DIGITS, 3)))\n",
    "    if exclude not in excluded_digits_per_client:\n",
    "        excluded_digits_per_client.append(exclude)\n",
    "\n",
    "# Apply exclusion by client\n",
    "for i in range(NUM_CLIENTS):\n",
    "    digits_to_exclude = excluded_digits_per_client[i]\n",
    "    train_sets[i] = exclude_digits(train_sets[i], excluded_digits=digits_to_exclude)\n",
    "    print(f\"Client {i} excludes the numbers : {digits_to_exclude}\")\n",
    "\n",
    "for i in range(NUM_CLIENTS):\n",
    "    print(f\"Client {i} : {len(train_sets[i])} exemple after exclusion\")\n",
    "\n",
    "train_sets\n"
   ]
  },
  {
   "cell_type": "code",
   "execution_count": 4,
   "id": "1e249728",
   "metadata": {},
   "outputs": [
    {
     "name": "stdout",
     "output_type": "stream",
     "text": [
      "[Client 0] Testset: 6978 images | excludes: (0, 2, 3)\n",
      "[Client 1] Testset: 7006 images | excludes: (0, 2, 4)\n",
      "[Client 2] Testset: 6903 images | excludes: (0, 1, 4)\n",
      "[Client 3] Testset: 6851 images | excludes: (1, 2, 4)\n",
      "[Client 4] Testset: 6875 images | excludes: (0, 1, 3)\n"
     ]
    }
   ],
   "source": [
    "testset = datasets.MNIST(\n",
    "    \"./MNIST_data/\", download=True, train=False, transform=transform\n",
    ")\n",
    "\n",
    "# For each client\n",
    "client_test_sets = []\n",
    "\n",
    "for i in range(NUM_CLIENTS):\n",
    "    digits_to_exclude = excluded_digits_per_client[i]\n",
    "    client_test_indices = [idx for idx, (_, label) in enumerate(testset) if label not in digits_to_exclude]\n",
    "    client_test_set = Subset(testset, client_test_indices)\n",
    "    \n",
    "    print(f\"[Client {i}] Testset: {len(client_test_set)} images | excludes: {digits_to_exclude}\")\n",
    "    client_test_sets.append(client_test_set)\n"
   ]
  },
  {
   "cell_type": "code",
   "execution_count": 5,
   "id": "feb56097",
   "metadata": {},
   "outputs": [],
   "source": [
    "# Sets the parameters of the model\n",
    "def set_weights(net, parameters):\n",
    "    params_dict = zip(net.state_dict().keys(), parameters)\n",
    "    state_dict = OrderedDict(\n",
    "        {k: torch.tensor(v) for k, v in params_dict}\n",
    "    )\n",
    "    net.load_state_dict(state_dict, strict=True)\n",
    "\n",
    "# Retrieves the parameters from the model\n",
    "def get_weights(net):\n",
    "    ndarrays = [\n",
    "        val.cpu().numpy() for _, val in net.state_dict().items()\n",
    "    ]\n",
    "    return ndarrays"
   ]
  },
  {
   "cell_type": "code",
   "execution_count": 6,
   "id": "9cd8289d",
   "metadata": {},
   "outputs": [],
   "source": [
    "class FlowerClient(NumPyClient):\n",
    "    def __init__(self, net, trainset, testset, malicious=False, attack_type=\"random_label\"):\n",
    "        self.net = net\n",
    "        self.trainset = trainset\n",
    "        self.testset = testset\n",
    "        self.malicious = malicious\n",
    "        self.attack_type = attack_type\n",
    "\n",
    "    def invert_image(self, img):\n",
    "        return 1.0 - img\n",
    "\n",
    "    def random_label(self):\n",
    "        for i in range(len(self.trainset)):\n",
    "            x, y = self.trainset[i]\n",
    "            self.trainset[i] = (x, random.randint(0,9))\n",
    "\n",
    "    def targeted(self):\n",
    "        for i in range(len(self.trainset)):\n",
    "            x, y = self.trainset[i]\n",
    "            if y == 1: \n",
    "                self.trainset[i] = (x,7)\n",
    "\n",
    "    def random_input(self):\n",
    "        for i in range(len(self.trainset)):\n",
    "            x, y = self.trainset[i]\n",
    "            if not isinstance(x, torch.Tensor):\n",
    "                x = transform(x)\n",
    "            noise = torch.randn_like(x) * 0.3\n",
    "            self.trainset[i] = (torch.clamp(x + noise, 0.0, 1.0), y)\n",
    "\n",
    "    def inverted(self):\n",
    "        for i in range(len(self.trainset)):\n",
    "            x, y = self.trainset[i]\n",
    "            self.trainset[i] = (self.invert_image(x), y)\n",
    "        \n",
    "\n",
    "    def poison_data(self):\n",
    "        try:\n",
    "            if self.attack_type == \"random_label\":\n",
    "                self.random_label()\n",
    "            elif self.attack_type == \"targeted\":\n",
    "                self.targeted()\n",
    "            elif self.attack_type == \"random_input\":\n",
    "                self.random_input()\n",
    "            elif self.attack_type == \"inverted\":\n",
    "                self.inverted()\n",
    "            else:\n",
    "                print(f\"[WARN] Unknown attack type: {self.attack_type}\")\n",
    "        except Exception as e:\n",
    "            print(f\"[ERROR] Poisoning failed ({self.attack_type}): {e}\")\n",
    "            raise e\n",
    "        \n",
    "\n",
    "    # Train the model\n",
    "    def fit(self, parameters, config):\n",
    "        print(f\"fit started for client {partition_id}\")\n",
    "        try:\n",
    "            set_weights(self.net, parameters)\n",
    "            partition_id = int(config.get(\"partition_id\", -1))\n",
    "\n",
    "            if self.malicious:\n",
    "                print(\">>> Malicious client poisoning data...\")\n",
    "                self.poison_data()\n",
    "                \n",
    "            train_model(self.net, self.trainset)\n",
    "            print(f\"[Client {partition_id}] training completed successfully\")\n",
    "            return get_weights(self.net), len(self.trainset), {}\n",
    "        except Exception as e:\n",
    "            print(f\"!!! Client failure: {e}\")\n",
    "            raise e\n",
    "\n",
    "    # Test the model\n",
    "    def evaluate(self, parameters: NDArrays, config: Dict[str, Scalar]):\n",
    "        set_weights(self.net, parameters)\n",
    "        loss, accuracy = evaluate_model(self.net, self.testset)\n",
    "        return loss, len(self.testset), {\"accuracy\": accuracy}"
   ]
  },
  {
   "cell_type": "code",
   "execution_count": 7,
   "id": "1439a427",
   "metadata": {},
   "outputs": [],
   "source": [
    "# Client function\n",
    "def client_fn(context: Context) -> Client:\n",
    "    \n",
    "    partition_id = int(context.node_config[\"partition_id\"])\n",
    "    print(f\"### Initialisation of client {partition_id}\")\n",
    "    \n",
    "    net = SimpleModel()\n",
    "    client_train = train_sets[int(partition_id)]\n",
    "    client_test = testset\n",
    "\n",
    "    malicious_ids = []\n",
    "    is_malicious = partition_id in malicious_ids\n",
    "\n",
    "    \n",
    "    return FlowerClient(\n",
    "        net, client_train, client_test,\n",
    "        malicious = is_malicious,\n",
    "        attack_type=\"random_input\" #targeted, random_input, random_label, inverted\n",
    "        ).to_client()"
   ]
  },
  {
   "cell_type": "code",
   "execution_count": 8,
   "id": "1939335a",
   "metadata": {},
   "outputs": [],
   "source": [
    "client = ClientApp(client_fn)"
   ]
  },
  {
   "cell_type": "code",
   "execution_count": 9,
   "id": "bf0ef8e5",
   "metadata": {},
   "outputs": [],
   "source": [
    "def evaluate(server_round, parameters, config):\n",
    "    net = SimpleModel()\n",
    "    set_weights(net, parameters)\n",
    "\n",
    "    _, accuracy = evaluate_model(net, testset)\n",
    "    \n",
    "\n",
    "    log(INFO, \"test accuracy on all digits: %.4f\", accuracy)\n",
    "\n",
    "\n",
    "    if server_round == 5:\n",
    "        cm = compute_confusion_matrix(net, testset)\n",
    "        plot_confusion_matrix(cm, \"Final Global Model\")"
   ]
  },
  {
   "cell_type": "code",
   "execution_count": 10,
   "id": "8f3bf345",
   "metadata": {},
   "outputs": [],
   "source": [
    "net = SimpleModel()\n",
    "params = ndarrays_to_parameters(get_weights(net))\n",
    "\n",
    "def server_fn(context: Context):\n",
    "    strategy = FedAvg(\n",
    "        fraction_fit=1.0,\n",
    "        fraction_evaluate=0.0,\n",
    "        initial_parameters=params,\n",
    "        evaluate_fn=evaluate,\n",
    "    )\n",
    "    config=ServerConfig(num_rounds=5)\n",
    "    return ServerAppComponents(\n",
    "        strategy=strategy,\n",
    "        config=config,\n",
    "    )"
   ]
  },
  {
   "cell_type": "code",
   "execution_count": null,
   "id": "30d38a72",
   "metadata": {},
   "outputs": [
    {
     "ename": "",
     "evalue": "",
     "output_type": "error",
     "traceback": [
      "\u001b[1;31mThe Kernel crashed while executing code in the current cell or a previous cell. \n",
      "\u001b[1;31mPlease review the code in the cell(s) to identify a possible cause of the failure. \n",
      "\u001b[1;31mClick <a href='https://aka.ms/vscodeJupyterKernelCrash'>here</a> for more info. \n",
      "\u001b[1;31mView Jupyter <a href='command:jupyter.viewOutput'>log</a> for further details."
     ]
    }
   ],
   "source": [
    "server = ServerApp(server_fn=server_fn)"
   ]
  },
  {
   "cell_type": "code",
   "execution_count": null,
   "id": "8a7ed696",
   "metadata": {},
   "outputs": [
    {
     "name": "stderr",
     "output_type": "stream",
     "text": [
      "\u001b[92mINFO \u001b[0m:      Starting Flower ServerApp, config: num_rounds=5, no round_timeout\n",
      "\u001b[92mINFO \u001b[0m:      \n",
      "\u001b[92mINFO \u001b[0m:      [INIT]\n",
      "\u001b[92mINFO \u001b[0m:      Using initial global parameters provided by strategy\n",
      "\u001b[92mINFO \u001b[0m:      Evaluating initial global parameters\n",
      "\u001b[92mINFO \u001b[0m:      test accuracy on all digits: 0.1267\n",
      "\u001b[92mINFO \u001b[0m:      \n",
      "\u001b[92mINFO \u001b[0m:      [ROUND 1]\n",
      "\u001b[92mINFO \u001b[0m:      configure_fit: strategy sampled 5 clients (out of 5)\n"
     ]
    }
   ],
   "source": [
    "run_simulation(\n",
    "    server_app=server,\n",
    "    client_app=client,\n",
    "    num_supernodes=NUM_CLIENTS,\n",
    "    backend_config=backend_setup,\n",
    ")"
   ]
  }
 ],
 "metadata": {
  "kernelspec": {
   "display_name": "venv",
   "language": "python",
   "name": "python3"
  },
  "language_info": {
   "codemirror_mode": {
    "name": "ipython",
    "version": 3
   },
   "file_extension": ".py",
   "mimetype": "text/x-python",
   "name": "python",
   "nbconvert_exporter": "python",
   "pygments_lexer": "ipython3",
   "version": "3.11.9"
  }
 },
 "nbformat": 4,
 "nbformat_minor": 5
}
